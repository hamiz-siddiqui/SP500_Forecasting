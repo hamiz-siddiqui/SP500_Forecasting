{
 "cells": [
  {
   "cell_type": "code",
   "execution_count": 371,
   "metadata": {
    "colab": {
     "base_uri": "https://localhost:8080/",
     "height": 424
    },
    "id": "AAKaEwLz4YOC",
    "outputId": "891d495c-eb12-49ee-8099-e03a4d877cde",
    "tags": []
   },
   "outputs": [
    {
     "data": {
      "text/html": [
       "<div>\n",
       "<style scoped>\n",
       "    .dataframe tbody tr th:only-of-type {\n",
       "        vertical-align: middle;\n",
       "    }\n",
       "\n",
       "    .dataframe tbody tr th {\n",
       "        vertical-align: top;\n",
       "    }\n",
       "\n",
       "    .dataframe thead th {\n",
       "        text-align: right;\n",
       "    }\n",
       "</style>\n",
       "<table border=\"1\" class=\"dataframe\">\n",
       "  <thead>\n",
       "    <tr style=\"text-align: right;\">\n",
       "      <th></th>\n",
       "      <th>Date</th>\n",
       "      <th>Open</th>\n",
       "      <th>High</th>\n",
       "      <th>Low</th>\n",
       "      <th>Close</th>\n",
       "      <th>Adj Close</th>\n",
       "      <th>Volume</th>\n",
       "    </tr>\n",
       "  </thead>\n",
       "  <tbody>\n",
       "    <tr>\n",
       "      <th>0</th>\n",
       "      <td>1990-01-01</td>\n",
       "      <td>353.399994</td>\n",
       "      <td>360.589996</td>\n",
       "      <td>319.829987</td>\n",
       "      <td>329.079987</td>\n",
       "      <td>329.079987</td>\n",
       "      <td>3793250000</td>\n",
       "    </tr>\n",
       "    <tr>\n",
       "      <th>1</th>\n",
       "      <td>1990-02-01</td>\n",
       "      <td>329.079987</td>\n",
       "      <td>336.089996</td>\n",
       "      <td>322.100006</td>\n",
       "      <td>331.890015</td>\n",
       "      <td>331.890015</td>\n",
       "      <td>2961970000</td>\n",
       "    </tr>\n",
       "    <tr>\n",
       "      <th>2</th>\n",
       "      <td>1990-03-01</td>\n",
       "      <td>331.890015</td>\n",
       "      <td>344.489990</td>\n",
       "      <td>331.079987</td>\n",
       "      <td>339.940002</td>\n",
       "      <td>339.940002</td>\n",
       "      <td>3283280000</td>\n",
       "    </tr>\n",
       "    <tr>\n",
       "      <th>3</th>\n",
       "      <td>1990-04-01</td>\n",
       "      <td>339.940002</td>\n",
       "      <td>347.299988</td>\n",
       "      <td>327.760010</td>\n",
       "      <td>330.799988</td>\n",
       "      <td>330.799988</td>\n",
       "      <td>2801220000</td>\n",
       "    </tr>\n",
       "    <tr>\n",
       "      <th>4</th>\n",
       "      <td>1990-05-01</td>\n",
       "      <td>330.799988</td>\n",
       "      <td>362.260010</td>\n",
       "      <td>330.799988</td>\n",
       "      <td>361.230011</td>\n",
       "      <td>361.230011</td>\n",
       "      <td>3596680000</td>\n",
       "    </tr>\n",
       "    <tr>\n",
       "      <th>...</th>\n",
       "      <td>...</td>\n",
       "      <td>...</td>\n",
       "      <td>...</td>\n",
       "      <td>...</td>\n",
       "      <td>...</td>\n",
       "      <td>...</td>\n",
       "      <td>...</td>\n",
       "    </tr>\n",
       "    <tr>\n",
       "      <th>408</th>\n",
       "      <td>2024-01-01</td>\n",
       "      <td>4745.200195</td>\n",
       "      <td>4931.089844</td>\n",
       "      <td>4682.109863</td>\n",
       "      <td>4845.649902</td>\n",
       "      <td>4845.649902</td>\n",
       "      <td>81737880000</td>\n",
       "    </tr>\n",
       "    <tr>\n",
       "      <th>409</th>\n",
       "      <td>2024-02-01</td>\n",
       "      <td>4861.109863</td>\n",
       "      <td>5111.060059</td>\n",
       "      <td>4853.520020</td>\n",
       "      <td>5096.270020</td>\n",
       "      <td>5096.270020</td>\n",
       "      <td>82066930000</td>\n",
       "    </tr>\n",
       "    <tr>\n",
       "      <th>410</th>\n",
       "      <td>2024-03-01</td>\n",
       "      <td>5098.509766</td>\n",
       "      <td>5264.850098</td>\n",
       "      <td>5056.819824</td>\n",
       "      <td>5254.350098</td>\n",
       "      <td>5254.350098</td>\n",
       "      <td>86299510000</td>\n",
       "    </tr>\n",
       "    <tr>\n",
       "      <th>411</th>\n",
       "      <td>2024-04-01</td>\n",
       "      <td>5257.970215</td>\n",
       "      <td>5263.950195</td>\n",
       "      <td>4953.560059</td>\n",
       "      <td>5035.689941</td>\n",
       "      <td>5035.689941</td>\n",
       "      <td>81747170000</td>\n",
       "    </tr>\n",
       "    <tr>\n",
       "      <th>412</th>\n",
       "      <td>2024-05-01</td>\n",
       "      <td>5029.029785</td>\n",
       "      <td>5215.299805</td>\n",
       "      <td>5011.049805</td>\n",
       "      <td>5214.080078</td>\n",
       "      <td>5214.080078</td>\n",
       "      <td>28091430000</td>\n",
       "    </tr>\n",
       "  </tbody>\n",
       "</table>\n",
       "<p>413 rows × 7 columns</p>\n",
       "</div>"
      ],
      "text/plain": [
       "           Date         Open         High          Low        Close  \\\n",
       "0    1990-01-01   353.399994   360.589996   319.829987   329.079987   \n",
       "1    1990-02-01   329.079987   336.089996   322.100006   331.890015   \n",
       "2    1990-03-01   331.890015   344.489990   331.079987   339.940002   \n",
       "3    1990-04-01   339.940002   347.299988   327.760010   330.799988   \n",
       "4    1990-05-01   330.799988   362.260010   330.799988   361.230011   \n",
       "..          ...          ...          ...          ...          ...   \n",
       "408  2024-01-01  4745.200195  4931.089844  4682.109863  4845.649902   \n",
       "409  2024-02-01  4861.109863  5111.060059  4853.520020  5096.270020   \n",
       "410  2024-03-01  5098.509766  5264.850098  5056.819824  5254.350098   \n",
       "411  2024-04-01  5257.970215  5263.950195  4953.560059  5035.689941   \n",
       "412  2024-05-01  5029.029785  5215.299805  5011.049805  5214.080078   \n",
       "\n",
       "       Adj Close       Volume  \n",
       "0     329.079987   3793250000  \n",
       "1     331.890015   2961970000  \n",
       "2     339.940002   3283280000  \n",
       "3     330.799988   2801220000  \n",
       "4     361.230011   3596680000  \n",
       "..           ...          ...  \n",
       "408  4845.649902  81737880000  \n",
       "409  5096.270020  82066930000  \n",
       "410  5254.350098  86299510000  \n",
       "411  5035.689941  81747170000  \n",
       "412  5214.080078  28091430000  \n",
       "\n",
       "[413 rows x 7 columns]"
      ]
     },
     "execution_count": 371,
     "metadata": {},
     "output_type": "execute_result"
    }
   ],
   "source": [
    "import pandas as pd\n",
    "import numpy as np\n",
    "import matplotlib.pyplot as plt\n",
    "from sklearn.preprocessing import StandardScaler\n",
    "\n",
    "import torch\n",
    "import torch.nn as nn\n",
    "\n",
    "data = pd.read_csv(r\"C:\\Users\\shami\\OneDrive\\Desktop\\university\\Data_Mining_Lab\\project\\git\\data.csv\")\n",
    "\n",
    "data"
   ]
  },
  {
   "cell_type": "code",
   "execution_count": 372,
   "metadata": {
    "colab": {
     "base_uri": "https://localhost:8080/",
     "height": 424
    },
    "id": "zDCX8wHe7s1g",
    "outputId": "602e0030-cb93-4a35-d50c-628e1a730209",
    "tags": []
   },
   "outputs": [
    {
     "data": {
      "text/html": [
       "<div>\n",
       "<style scoped>\n",
       "    .dataframe tbody tr th:only-of-type {\n",
       "        vertical-align: middle;\n",
       "    }\n",
       "\n",
       "    .dataframe tbody tr th {\n",
       "        vertical-align: top;\n",
       "    }\n",
       "\n",
       "    .dataframe thead th {\n",
       "        text-align: right;\n",
       "    }\n",
       "</style>\n",
       "<table border=\"1\" class=\"dataframe\">\n",
       "  <thead>\n",
       "    <tr style=\"text-align: right;\">\n",
       "      <th></th>\n",
       "      <th>Date</th>\n",
       "      <th>Close</th>\n",
       "    </tr>\n",
       "  </thead>\n",
       "  <tbody>\n",
       "    <tr>\n",
       "      <th>0</th>\n",
       "      <td>1990-01-01</td>\n",
       "      <td>329.079987</td>\n",
       "    </tr>\n",
       "    <tr>\n",
       "      <th>1</th>\n",
       "      <td>1990-02-01</td>\n",
       "      <td>331.890015</td>\n",
       "    </tr>\n",
       "    <tr>\n",
       "      <th>2</th>\n",
       "      <td>1990-03-01</td>\n",
       "      <td>339.940002</td>\n",
       "    </tr>\n",
       "    <tr>\n",
       "      <th>3</th>\n",
       "      <td>1990-04-01</td>\n",
       "      <td>330.799988</td>\n",
       "    </tr>\n",
       "    <tr>\n",
       "      <th>4</th>\n",
       "      <td>1990-05-01</td>\n",
       "      <td>361.230011</td>\n",
       "    </tr>\n",
       "    <tr>\n",
       "      <th>...</th>\n",
       "      <td>...</td>\n",
       "      <td>...</td>\n",
       "    </tr>\n",
       "    <tr>\n",
       "      <th>408</th>\n",
       "      <td>2024-01-01</td>\n",
       "      <td>4845.649902</td>\n",
       "    </tr>\n",
       "    <tr>\n",
       "      <th>409</th>\n",
       "      <td>2024-02-01</td>\n",
       "      <td>5096.270020</td>\n",
       "    </tr>\n",
       "    <tr>\n",
       "      <th>410</th>\n",
       "      <td>2024-03-01</td>\n",
       "      <td>5254.350098</td>\n",
       "    </tr>\n",
       "    <tr>\n",
       "      <th>411</th>\n",
       "      <td>2024-04-01</td>\n",
       "      <td>5035.689941</td>\n",
       "    </tr>\n",
       "    <tr>\n",
       "      <th>412</th>\n",
       "      <td>2024-05-01</td>\n",
       "      <td>5214.080078</td>\n",
       "    </tr>\n",
       "  </tbody>\n",
       "</table>\n",
       "<p>413 rows × 2 columns</p>\n",
       "</div>"
      ],
      "text/plain": [
       "           Date        Close\n",
       "0    1990-01-01   329.079987\n",
       "1    1990-02-01   331.890015\n",
       "2    1990-03-01   339.940002\n",
       "3    1990-04-01   330.799988\n",
       "4    1990-05-01   361.230011\n",
       "..          ...          ...\n",
       "408  2024-01-01  4845.649902\n",
       "409  2024-02-01  5096.270020\n",
       "410  2024-03-01  5254.350098\n",
       "411  2024-04-01  5035.689941\n",
       "412  2024-05-01  5214.080078\n",
       "\n",
       "[413 rows x 2 columns]"
      ]
     },
     "execution_count": 372,
     "metadata": {},
     "output_type": "execute_result"
    }
   ],
   "source": [
    "data = data[['Date', 'Close']]\n",
    "data"
   ]
  },
  {
   "cell_type": "code",
   "execution_count": 373,
   "metadata": {
    "colab": {
     "base_uri": "https://localhost:8080/",
     "height": 35
    },
    "id": "QTdTqcUQBsW1",
    "outputId": "1c19fdca-0968-4f8d-f272-79e07f7382a8",
    "tags": []
   },
   "outputs": [
    {
     "data": {
      "text/plain": [
       "'cpu'"
      ]
     },
     "execution_count": 373,
     "metadata": {},
     "output_type": "execute_result"
    }
   ],
   "source": [
    "device = 'cuda:0' if torch.cuda.is_available() else 'cpu'\n",
    "device"
   ]
  },
  {
   "cell_type": "code",
   "execution_count": 374,
   "metadata": {
    "colab": {
     "base_uri": "https://localhost:8080/",
     "height": 455
    },
    "id": "r8Xw_HX3IRVf",
    "outputId": "1ad13fb2-9391-4e3f-d85d-4dbd235f89a6",
    "tags": []
   },
   "outputs": [
    {
     "data": {
      "text/html": [
       "<div>\n",
       "<style scoped>\n",
       "    .dataframe tbody tr th:only-of-type {\n",
       "        vertical-align: middle;\n",
       "    }\n",
       "\n",
       "    .dataframe tbody tr th {\n",
       "        vertical-align: top;\n",
       "    }\n",
       "\n",
       "    .dataframe thead th {\n",
       "        text-align: right;\n",
       "    }\n",
       "</style>\n",
       "<table border=\"1\" class=\"dataframe\">\n",
       "  <thead>\n",
       "    <tr style=\"text-align: right;\">\n",
       "      <th></th>\n",
       "      <th>Close</th>\n",
       "      <th>Close(t-1)</th>\n",
       "      <th>Close(t-2)</th>\n",
       "      <th>Close(t-3)</th>\n",
       "    </tr>\n",
       "    <tr>\n",
       "      <th>Date</th>\n",
       "      <th></th>\n",
       "      <th></th>\n",
       "      <th></th>\n",
       "      <th></th>\n",
       "    </tr>\n",
       "  </thead>\n",
       "  <tbody>\n",
       "    <tr>\n",
       "      <th>1990-04-01</th>\n",
       "      <td>330.799988</td>\n",
       "      <td>339.940002</td>\n",
       "      <td>331.890015</td>\n",
       "      <td>329.079987</td>\n",
       "    </tr>\n",
       "    <tr>\n",
       "      <th>1990-05-01</th>\n",
       "      <td>361.230011</td>\n",
       "      <td>330.799988</td>\n",
       "      <td>339.940002</td>\n",
       "      <td>331.890015</td>\n",
       "    </tr>\n",
       "    <tr>\n",
       "      <th>1990-06-01</th>\n",
       "      <td>358.019989</td>\n",
       "      <td>361.230011</td>\n",
       "      <td>330.799988</td>\n",
       "      <td>339.940002</td>\n",
       "    </tr>\n",
       "    <tr>\n",
       "      <th>1990-07-01</th>\n",
       "      <td>356.149994</td>\n",
       "      <td>358.019989</td>\n",
       "      <td>361.230011</td>\n",
       "      <td>330.799988</td>\n",
       "    </tr>\n",
       "    <tr>\n",
       "      <th>1990-08-01</th>\n",
       "      <td>322.559998</td>\n",
       "      <td>356.149994</td>\n",
       "      <td>358.019989</td>\n",
       "      <td>361.230011</td>\n",
       "    </tr>\n",
       "    <tr>\n",
       "      <th>...</th>\n",
       "      <td>...</td>\n",
       "      <td>...</td>\n",
       "      <td>...</td>\n",
       "      <td>...</td>\n",
       "    </tr>\n",
       "    <tr>\n",
       "      <th>2024-01-01</th>\n",
       "      <td>4845.649902</td>\n",
       "      <td>4769.830078</td>\n",
       "      <td>4567.799805</td>\n",
       "      <td>4193.799805</td>\n",
       "    </tr>\n",
       "    <tr>\n",
       "      <th>2024-02-01</th>\n",
       "      <td>5096.270020</td>\n",
       "      <td>4845.649902</td>\n",
       "      <td>4769.830078</td>\n",
       "      <td>4567.799805</td>\n",
       "    </tr>\n",
       "    <tr>\n",
       "      <th>2024-03-01</th>\n",
       "      <td>5254.350098</td>\n",
       "      <td>5096.270020</td>\n",
       "      <td>4845.649902</td>\n",
       "      <td>4769.830078</td>\n",
       "    </tr>\n",
       "    <tr>\n",
       "      <th>2024-04-01</th>\n",
       "      <td>5035.689941</td>\n",
       "      <td>5254.350098</td>\n",
       "      <td>5096.270020</td>\n",
       "      <td>4845.649902</td>\n",
       "    </tr>\n",
       "    <tr>\n",
       "      <th>2024-05-01</th>\n",
       "      <td>5214.080078</td>\n",
       "      <td>5035.689941</td>\n",
       "      <td>5254.350098</td>\n",
       "      <td>5096.270020</td>\n",
       "    </tr>\n",
       "  </tbody>\n",
       "</table>\n",
       "<p>410 rows × 4 columns</p>\n",
       "</div>"
      ],
      "text/plain": [
       "                  Close   Close(t-1)   Close(t-2)   Close(t-3)\n",
       "Date                                                          \n",
       "1990-04-01   330.799988   339.940002   331.890015   329.079987\n",
       "1990-05-01   361.230011   330.799988   339.940002   331.890015\n",
       "1990-06-01   358.019989   361.230011   330.799988   339.940002\n",
       "1990-07-01   356.149994   358.019989   361.230011   330.799988\n",
       "1990-08-01   322.559998   356.149994   358.019989   361.230011\n",
       "...                 ...          ...          ...          ...\n",
       "2024-01-01  4845.649902  4769.830078  4567.799805  4193.799805\n",
       "2024-02-01  5096.270020  4845.649902  4769.830078  4567.799805\n",
       "2024-03-01  5254.350098  5096.270020  4845.649902  4769.830078\n",
       "2024-04-01  5035.689941  5254.350098  5096.270020  4845.649902\n",
       "2024-05-01  5214.080078  5035.689941  5254.350098  5096.270020\n",
       "\n",
       "[410 rows x 4 columns]"
      ]
     },
     "execution_count": 374,
     "metadata": {},
     "output_type": "execute_result"
    }
   ],
   "source": [
    "from copy import deepcopy as dc\n",
    "\n",
    "def prepare_dataframe_for_lstm(df, n_steps):\n",
    "    df = dc(df)\n",
    "\n",
    "    df.set_index('Date', inplace=True)\n",
    "\n",
    "    for i in range(1, n_steps+1):\n",
    "        df[f'Close(t-{i})'] = df['Close'].shift(i)\n",
    "\n",
    "    df.dropna(inplace=True)\n",
    "\n",
    "    return df\n",
    "\n",
    "lookback = 3\n",
    "shifted_df = prepare_dataframe_for_lstm(data, lookback)\n",
    "shifted_df"
   ]
  },
  {
   "cell_type": "code",
   "execution_count": 375,
   "metadata": {
    "colab": {
     "base_uri": "https://localhost:8080/"
    },
    "id": "sNoMNW3yJR9x",
    "outputId": "4fcdeb1e-e9c2-44d2-9dce-613777948a56",
    "tags": []
   },
   "outputs": [
    {
     "data": {
      "text/plain": [
       "array([[ 330.79998779,  339.94000244,  331.89001465,  329.07998657],\n",
       "       [ 361.23001099,  330.79998779,  339.94000244,  331.89001465],\n",
       "       [ 358.01998901,  361.23001099,  330.79998779,  339.94000244],\n",
       "       ...,\n",
       "       [5254.35009766, 5096.27001953, 4845.64990234, 4769.83007812],\n",
       "       [5035.68994141, 5254.35009766, 5096.27001953, 4845.64990234],\n",
       "       [5214.08007812, 5035.68994141, 5254.35009766, 5096.27001953]])"
      ]
     },
     "execution_count": 375,
     "metadata": {},
     "output_type": "execute_result"
    }
   ],
   "source": [
    "shifted_df_as_np = shifted_df.to_numpy()\n",
    "\n",
    "shifted_df_as_np"
   ]
  },
  {
   "cell_type": "code",
   "execution_count": 376,
   "metadata": {
    "colab": {
     "base_uri": "https://localhost:8080/"
    },
    "id": "voT-78v4Kpw6",
    "outputId": "f5185dd3-bbd0-409f-b77a-cb97c743d009",
    "tags": []
   },
   "outputs": [
    {
     "data": {
      "text/plain": [
       "array([[0.00541376, 0.00726009, 0.00563395, 0.00523343],\n",
       "       [0.0115608 , 0.00541376, 0.00726009, 0.00581979],\n",
       "       [0.01091236, 0.0115608 , 0.00541376, 0.00749958],\n",
       "       ...,\n",
       "       [1.        , 0.96806689, 0.91744014, 0.93188198],\n",
       "       [0.95582936, 1.        , 0.96806689, 0.94770326],\n",
       "       [0.99186522, 0.95582936, 1.        , 1.        ]])"
      ]
     },
     "execution_count": 376,
     "metadata": {},
     "output_type": "execute_result"
    }
   ],
   "source": [
    "from sklearn.preprocessing import MinMaxScaler\n",
    "\n",
    "scaler = MinMaxScaler(feature_range=(0, 1))\n",
    "shifted_df_as_np = scaler.fit_transform(shifted_df_as_np)\n",
    "\n",
    "shifted_df_as_np"
   ]
  },
  {
   "cell_type": "code",
   "execution_count": 377,
   "metadata": {
    "colab": {
     "base_uri": "https://localhost:8080/"
    },
    "id": "YK7zK73QnKBt",
    "outputId": "022358ad-8f39-493f-9575-b60748e24fef",
    "tags": []
   },
   "outputs": [
    {
     "data": {
      "text/plain": [
       "((410, 3), (410,))"
      ]
     },
     "execution_count": 377,
     "metadata": {},
     "output_type": "execute_result"
    }
   ],
   "source": [
    "X = shifted_df_as_np[:, 1:]\n",
    "y = shifted_df_as_np[:, 0]\n",
    "\n",
    "X.shape, y.shape"
   ]
  },
  {
   "cell_type": "code",
   "execution_count": 378,
   "metadata": {
    "colab": {
     "base_uri": "https://localhost:8080/"
    },
    "id": "bTG1KUFCnJ14",
    "outputId": "1843d15e-2889-45bf-e372-8bc4b34c4af5",
    "tags": []
   },
   "outputs": [
    {
     "data": {
      "text/plain": [
       "array([[0.00523343, 0.00563395, 0.00726009],\n",
       "       [0.00581979, 0.00726009, 0.00541376],\n",
       "       [0.00749958, 0.00541376, 0.0115608 ],\n",
       "       ...,\n",
       "       [0.93188198, 0.91744014, 0.96806689],\n",
       "       [0.94770326, 0.96806689, 1.        ],\n",
       "       [1.        , 1.        , 0.95582936]])"
      ]
     },
     "execution_count": 378,
     "metadata": {},
     "output_type": "execute_result"
    }
   ],
   "source": [
    "X = dc(np.flip(X, axis=1))\n",
    "X"
   ]
  },
  {
   "cell_type": "code",
   "execution_count": 379,
   "metadata": {
    "colab": {
     "base_uri": "https://localhost:8080/"
    },
    "id": "B2yS1plXMMwL",
    "outputId": "459ef0a0-0b4f-4f60-e7f7-2a1c728caffd",
    "tags": []
   },
   "outputs": [
    {
     "data": {
      "text/plain": [
       "320"
      ]
     },
     "execution_count": 379,
     "metadata": {},
     "output_type": "execute_result"
    }
   ],
   "source": [
    "split_index = 320\n",
    "\n",
    "split_index"
   ]
  },
  {
   "cell_type": "code",
   "execution_count": 380,
   "metadata": {
    "colab": {
     "base_uri": "https://localhost:8080/"
    },
    "id": "W7mVHnX5nUuz",
    "outputId": "8f75ffc4-0381-413c-95ae-aa79e32de3a1",
    "tags": []
   },
   "outputs": [
    {
     "data": {
      "text/plain": [
       "((320, 3), (90, 3), (320,), (90,))"
      ]
     },
     "execution_count": 380,
     "metadata": {},
     "output_type": "execute_result"
    }
   ],
   "source": [
    "X_train = X[:split_index]\n",
    "X_test = X[split_index:]\n",
    "\n",
    "y_train = y[:split_index]\n",
    "y_test = y[split_index:]\n",
    "\n",
    "X_train.shape, X_test.shape, y_train.shape, y_test.shape"
   ]
  },
  {
   "cell_type": "code",
   "execution_count": 381,
   "metadata": {
    "colab": {
     "base_uri": "https://localhost:8080/"
    },
    "id": "3tv95UTxnXkI",
    "outputId": "c0304312-cb53-40fb-8af9-5d1eab566dc9",
    "tags": []
   },
   "outputs": [
    {
     "data": {
      "text/plain": [
       "((320, 3, 1), (90, 3, 1), (320, 1), (90, 1))"
      ]
     },
     "execution_count": 381,
     "metadata": {},
     "output_type": "execute_result"
    }
   ],
   "source": [
    "\n",
    "X_train = X_train.reshape((-1, lookback, 1))\n",
    "X_test = X_test.reshape((-1, lookback, 1))\n",
    "\n",
    "y_train = y_train.reshape((-1, 1))\n",
    "y_test = y_test.reshape((-1, 1))\n",
    "\n",
    "X_train.shape, X_test.shape, y_train.shape, y_test.shape"
   ]
  },
  {
   "cell_type": "code",
   "execution_count": 382,
   "metadata": {
    "colab": {
     "base_uri": "https://localhost:8080/"
    },
    "id": "aCY3cGi4Myw7",
    "outputId": "75507ceb-9154-4a99-aad9-cc47a1fc78db",
    "tags": []
   },
   "outputs": [
    {
     "data": {
      "text/plain": [
       "(torch.Size([320, 3, 1]),\n",
       " torch.Size([90, 3, 1]),\n",
       " torch.Size([320, 1]),\n",
       " torch.Size([90, 1]))"
      ]
     },
     "execution_count": 382,
     "metadata": {},
     "output_type": "execute_result"
    }
   ],
   "source": [
    "X_train = torch.tensor(X_train).float()\n",
    "y_train = torch.tensor(y_train).float()\n",
    "X_test = torch.tensor(X_test).float()\n",
    "y_test = torch.tensor(y_test).float()\n",
    "\n",
    "X_train.shape, X_test.shape, y_train.shape, y_test.shape"
   ]
  },
  {
   "cell_type": "code",
   "execution_count": 383,
   "metadata": {
    "id": "CmgF9GZhNH7R",
    "tags": []
   },
   "outputs": [],
   "source": [
    "from torch.utils.data import Dataset\n",
    "\n",
    "class TimeSeriesDataset(Dataset):\n",
    "    def __init__(self, X, y):\n",
    "        self.X = X\n",
    "        self.y = y\n",
    "\n",
    "    def __len__(self):\n",
    "        return len(self.X)\n",
    "\n",
    "    def __getitem__(self, i):\n",
    "        return self.X[i], self.y[i]\n",
    "\n",
    "train_dataset = TimeSeriesDataset(X_train, y_train)\n",
    "test_dataset = TimeSeriesDataset(X_test, y_test)"
   ]
  },
  {
   "cell_type": "code",
   "execution_count": 384,
   "metadata": {
    "id": "y_POdBHENqaN",
    "tags": []
   },
   "outputs": [],
   "source": [
    "from torch.utils.data import DataLoader\n",
    "\n",
    "batch_size = 16\n",
    "\n",
    "train_loader = DataLoader(train_dataset, batch_size=batch_size, shuffle=True)\n",
    "test_loader = DataLoader(test_dataset, batch_size=batch_size, shuffle=False)"
   ]
  },
  {
   "cell_type": "code",
   "execution_count": 385,
   "metadata": {
    "colab": {
     "base_uri": "https://localhost:8080/"
    },
    "id": "elHh2pO1RQX2",
    "outputId": "2fbcc82d-4dfa-4543-8de8-6f5af2f1e2d9",
    "tags": []
   },
   "outputs": [
    {
     "name": "stdout",
     "output_type": "stream",
     "text": [
      "torch.Size([16, 3, 1]) torch.Size([16, 1])\n"
     ]
    }
   ],
   "source": [
    "for _, batch in enumerate(train_loader):\n",
    "    x_batch, y_batch = batch[0].to(device), batch[1].to(device)\n",
    "    print(x_batch.shape, y_batch.shape)\n",
    "    break"
   ]
  },
  {
   "cell_type": "code",
   "execution_count": 386,
   "metadata": {
    "colab": {
     "base_uri": "https://localhost:8080/"
    },
    "id": "OmjsvgKLN_DV",
    "outputId": "aa3ff21e-e7f3-442d-9637-614aad8e967c",
    "tags": []
   },
   "outputs": [
    {
     "data": {
      "text/plain": [
       "LSTM(\n",
       "  (lstm): LSTM(1, 4, num_layers=2, batch_first=True)\n",
       "  (fc): Linear(in_features=4, out_features=1, bias=True)\n",
       ")"
      ]
     },
     "execution_count": 386,
     "metadata": {},
     "output_type": "execute_result"
    }
   ],
   "source": [
    "class LSTM(nn.Module):\n",
    "    def __init__(self, input_size, hidden_size, num_stacked_layers):\n",
    "        super().__init__()\n",
    "        self.hidden_size = hidden_size\n",
    "        self.num_stacked_layers = num_stacked_layers\n",
    "\n",
    "        self.lstm = nn.LSTM(input_size, hidden_size, num_stacked_layers,\n",
    "                            batch_first=True)\n",
    "\n",
    "        self.fc = nn.Linear(hidden_size, 1)\n",
    "\n",
    "    def forward(self, x):\n",
    "        batch_size = x.size(0)\n",
    "        h0 = torch.zeros(self.num_stacked_layers, batch_size, self.hidden_size).to(device)\n",
    "        c0 = torch.zeros(self.num_stacked_layers, batch_size, self.hidden_size).to(device)\n",
    "\n",
    "        out, _ = self.lstm(x, (h0, c0))\n",
    "        out = self.fc(out[:, -1, :])\n",
    "        return out\n",
    "\n",
    "model = LSTM(1, 4, 2)\n",
    "model.to(device)\n",
    "model"
   ]
  },
  {
   "cell_type": "code",
   "execution_count": 387,
   "metadata": {
    "id": "EDTYESL8ZivM",
    "tags": []
   },
   "outputs": [],
   "source": [
    "def train_one_epoch():\n",
    "    model.train(True)\n",
    "    print(f'Epoch: {epoch + 1}')\n",
    "    running_loss = 0.0\n",
    "\n",
    "    for batch_index, batch in enumerate(train_loader):\n",
    "        x_batch, y_batch = batch[0].to(device), batch[1].to(device)\n",
    "\n",
    "        output = model(x_batch)\n",
    "        loss = loss_function(output, y_batch)\n",
    "        running_loss += loss.item()\n",
    "\n",
    "        optimizer.zero_grad()\n",
    "        loss.backward()\n",
    "        optimizer.step()\n",
    "\n",
    "        if batch_index % 100 == 99:  # print every 100 batches\n",
    "            avg_loss_across_batches = running_loss / 100\n",
    "            print('Batch {0}, Loss: {1:.3f}'.format(batch_index+1,\n",
    "                                                    avg_loss_across_batches))\n",
    "            running_loss = 0.0\n",
    "    print()"
   ]
  },
  {
   "cell_type": "code",
   "execution_count": 388,
   "metadata": {
    "id": "gzG1crg7Znwm",
    "tags": []
   },
   "outputs": [],
   "source": [
    "def validate_one_epoch():\n",
    "    model.train(False)\n",
    "    running_loss = 0.0\n",
    "\n",
    "    for batch_index, batch in enumerate(test_loader):\n",
    "        x_batch, y_batch = batch[0].to(device), batch[1].to(device)\n",
    "\n",
    "        with torch.no_grad():\n",
    "            output = model(x_batch)\n",
    "            loss = loss_function(output, y_batch)\n",
    "            running_loss += loss.item()\n",
    "\n",
    "    avg_loss_across_batches = running_loss / len(test_loader)\n",
    "\n",
    "    print('Val Loss: {0:.3f}'.format(avg_loss_across_batches))\n",
    "    print('***************************************************')\n",
    "    print()"
   ]
  },
  {
   "cell_type": "code",
   "execution_count": 389,
   "metadata": {
    "colab": {
     "base_uri": "https://localhost:8080/"
    },
    "id": "DYGNc_bEPNaH",
    "outputId": "edbf677a-49bb-43bd-f8e9-d2487b52f2da",
    "scrolled": true,
    "tags": []
   },
   "outputs": [
    {
     "name": "stdout",
     "output_type": "stream",
     "text": [
      "Epoch: 1\n",
      "\n",
      "Val Loss: 0.312\n",
      "***************************************************\n",
      "\n",
      "Epoch: 2\n",
      "\n",
      "Val Loss: 0.267\n",
      "***************************************************\n",
      "\n",
      "Epoch: 3\n",
      "\n",
      "Val Loss: 0.191\n",
      "***************************************************\n",
      "\n",
      "Epoch: 4\n",
      "\n",
      "Val Loss: 0.070\n",
      "***************************************************\n",
      "\n",
      "Epoch: 5\n",
      "\n",
      "Val Loss: 0.086\n",
      "***************************************************\n",
      "\n",
      "Epoch: 6\n",
      "\n",
      "Val Loss: 0.071\n",
      "***************************************************\n",
      "\n",
      "Epoch: 7\n",
      "\n",
      "Val Loss: 0.068\n",
      "***************************************************\n",
      "\n",
      "Epoch: 8\n",
      "\n",
      "Val Loss: 0.067\n",
      "***************************************************\n",
      "\n",
      "Epoch: 9\n",
      "\n",
      "Val Loss: 0.067\n",
      "***************************************************\n",
      "\n",
      "Epoch: 10\n",
      "\n",
      "Val Loss: 0.062\n",
      "***************************************************\n",
      "\n",
      "Epoch: 11\n",
      "\n",
      "Val Loss: 0.064\n",
      "***************************************************\n",
      "\n",
      "Epoch: 12\n",
      "\n",
      "Val Loss: 0.062\n",
      "***************************************************\n",
      "\n",
      "Epoch: 13\n",
      "\n",
      "Val Loss: 0.058\n",
      "***************************************************\n",
      "\n",
      "Epoch: 14\n",
      "\n",
      "Val Loss: 0.060\n",
      "***************************************************\n",
      "\n",
      "Epoch: 15\n",
      "\n",
      "Val Loss: 0.058\n",
      "***************************************************\n",
      "\n",
      "Epoch: 16\n",
      "\n",
      "Val Loss: 0.063\n",
      "***************************************************\n",
      "\n",
      "Epoch: 17\n",
      "\n",
      "Val Loss: 0.060\n",
      "***************************************************\n",
      "\n",
      "Epoch: 18\n",
      "\n",
      "Val Loss: 0.057\n",
      "***************************************************\n",
      "\n",
      "Epoch: 19\n",
      "\n",
      "Val Loss: 0.054\n",
      "***************************************************\n",
      "\n",
      "Epoch: 20\n",
      "\n",
      "Val Loss: 0.054\n",
      "***************************************************\n",
      "\n"
     ]
    }
   ],
   "source": [
    "lr = 0.01\n",
    "epochs = 20\n",
    "loss_function = nn.MSELoss()\n",
    "optimizer = torch.optim.Adam(model.parameters(), lr=lr)\n",
    "for epoch in range(epochs):\n",
    "    train_one_epoch()\n",
    "    validate_one_epoch()"
   ]
  },
  {
   "cell_type": "code",
   "execution_count": 390,
   "metadata": {
    "colab": {
     "base_uri": "https://localhost:8080/",
     "height": 449
    },
    "id": "7QTJ4rxaQ7ci",
    "outputId": "32653207-8a1b-4b9c-89d1-7a22c8421d8f",
    "tags": []
   },
   "outputs": [
    {
     "data": {
      "image/png": "[encoded data removed]",
      "text/plain": [
       "<Figure size 640x480 with 1 Axes>"
      ]
     },
     "metadata": {},
     "output_type": "display_data"
    }
   ],
   "source": [
    "with torch.no_grad():\n",
    "    predicted = model(X_train.to(device)).to('cpu').numpy()\n",
    "import matplotlib.pyplot as plt\n",
    "plt.plot(y_train, label='Actual')\n",
    "plt.plot(predicted, label='Predicted')\n",
    "plt.xlabel('Month')\n",
    "plt.ylabel('Close')\n",
    "plt.legend()\n",
    "plt.show()"
   ]
  },
  {
   "cell_type": "code",
   "execution_count": 391,
   "metadata": {
    "colab": {
     "base_uri": "https://localhost:8080/"
    },
    "id": "y8N47TyCyztZ",
    "outputId": "51ba8c9d-33b2-4c56-bdaa-a7f8fd0394a5",
    "tags": []
   },
   "outputs": [
    {
     "name": "stdout",
     "output_type": "stream",
     "text": [
      "The evaluations are as follows\n",
      "Mean Squared Error: 1165582.5473811394\n",
      "Mean Absolute Error: 871.7718909866484\n",
      "R2 Score: -0.6713525863449841\n"
     ]
    }
   ],
   "source": [
    "with torch.no_grad():\n",
    "    y_pred = model(X_test.to(device)).to('cpu').numpy()\n",
    "from sklearn.metrics import mean_squared_error, r2_score, mean_absolute_error\n",
    "train_predictions = y_pred.flatten()\n",
    "dummies = np.zeros((X_test.shape[0], lookback+1))\n",
    "dummies[:, 0] = train_predictions\n",
    "dummies = scaler.inverse_transform(dummies)\n",
    "y_pred = dc(dummies[:, 0])\n",
    "dummies = np.zeros((y_test.shape[0], lookback+1))\n",
    "dummies[:, 0] = y_test.flatten()\n",
    "dummies = scaler.inverse_transform(dummies)\n",
    "ny_test = dc(dummies[:, 0])\n",
    "print(f'The evaluations are as follows\\nMean Squared Error: {mean_squared_error(ny_test, y_pred)}\\nMean Absolute Error: {mean_absolute_error(ny_test, y_pred)}\\nR2 Score: {r2_score(ny_test, y_pred)}')"
   ]
  },
  {
   "cell_type": "code",
   "execution_count": 392,
   "metadata": {
    "colab": {
     "base_uri": "https://localhost:8080/",
     "height": 449
    },
    "id": "w8JZ3Se81v2B",
    "outputId": "549bd94c-140a-4bae-928c-8c467848e32c",
    "tags": []
   },
   "outputs": [
    {
     "data": {
      "image/png": "[encoded data removed]",
      "text/plain": [
       "<Figure size 640x480 with 1 Axes>"
      ]
     },
     "metadata": {},
     "output_type": "display_data"
    }
   ],
   "source": [
    "plt.plot(ny_test, label='Actual Close')\n",
    "plt.plot(y_pred, label='Predicted Close')\n",
    "plt.xlabel('Day')\n",
    "plt.ylabel('Close')\n",
    "plt.legend()\n",
    "plt.show()"
   ]
  },
  {
   "cell_type": "code",
   "execution_count": 395,
   "metadata": {
    "tags": []
   },
   "outputs": [
    {
     "data": {
      "text/html": [
       "<div>\n",
       "<style scoped>\n",
       "    .dataframe tbody tr th:only-of-type {\n",
       "        vertical-align: middle;\n",
       "    }\n",
       "\n",
       "    .dataframe tbody tr th {\n",
       "        vertical-align: top;\n",
       "    }\n",
       "\n",
       "    .dataframe thead th {\n",
       "        text-align: right;\n",
       "    }\n",
       "</style>\n",
       "<table border=\"1\" class=\"dataframe\">\n",
       "  <thead>\n",
       "    <tr style=\"text-align: right;\">\n",
       "      <th></th>\n",
       "      <th>Timestamp</th>\n",
       "      <th>Predicted</th>\n",
       "    </tr>\n",
       "  </thead>\n",
       "  <tbody>\n",
       "    <tr>\n",
       "      <th>323</th>\n",
       "      <td>2016-12-01</td>\n",
       "      <td>2144.156315</td>\n",
       "    </tr>\n",
       "    <tr>\n",
       "      <th>324</th>\n",
       "      <td>2017-01-01</td>\n",
       "      <td>2157.527281</td>\n",
       "    </tr>\n",
       "    <tr>\n",
       "      <th>325</th>\n",
       "      <td>2017-02-01</td>\n",
       "      <td>2195.148219</td>\n",
       "    </tr>\n",
       "    <tr>\n",
       "      <th>326</th>\n",
       "      <td>2017-03-01</td>\n",
       "      <td>2229.830762</td>\n",
       "    </tr>\n",
       "    <tr>\n",
       "      <th>327</th>\n",
       "      <td>2017-04-01</td>\n",
       "      <td>2259.430831</td>\n",
       "    </tr>\n",
       "  </tbody>\n",
       "</table>\n",
       "</div>"
      ],
      "text/plain": [
       "      Timestamp    Predicted\n",
       "323  2016-12-01  2144.156315\n",
       "324  2017-01-01  2157.527281\n",
       "325  2017-02-01  2195.148219\n",
       "326  2017-03-01  2229.830762\n",
       "327  2017-04-01  2259.430831"
      ]
     },
     "execution_count": 395,
     "metadata": {},
     "output_type": "execute_result"
    }
   ],
   "source": [
    "dates = data['Date'][323:]\n",
    "temp_LSTM = pd.DataFrame({'Timestamp': dates, 'Predicted': y_pred})\n",
    "temp_LSTM.head(5)"
   ]
  },
  {
   "cell_type": "code",
   "execution_count": 408,
   "metadata": {
    "tags": []
   },
   "outputs": [],
   "source": [
    "history = [y_pred[-3], y_pred[-2], y_pred[-1]]\n",
    "pred = []\n",
    "for i in range(36):\n",
    "    history_tensor = torch.tensor(history).unsqueeze(0).unsqueeze(2).float()\n",
    "    with torch.no_grad():\n",
    "        predicted = float(model(history_tensor.to(device)).to('cpu'))\n",
    "    pred.append(predicted)\n",
    "    history.append(predicted)\n",
    "    history.pop(0)"
   ]
  },
  {
   "cell_type": "code",
   "execution_count": 427,
   "metadata": {
    "tags": []
   },
   "outputs": [],
   "source": [
    "pred_array = np.array(pred).reshape(-1, 1)\n",
    "train_predictions = pred_array.flatten()\n",
    "dummies = np.zeros((train_predictions.shape[0], lookback+1))\n",
    "dummies[:, 0] = train_predictions\n",
    "dummies = scaler.inverse_transform(dummies)\n",
    "y_pred = dc(dummies[:, 0])"
   ]
  },
  {
   "cell_type": "code",
   "execution_count": 429,
   "metadata": {
    "tags": []
   },
   "outputs": [],
   "source": [
    "from datetime import datetime, timedelta\n",
    "from dateutil.relativedelta import relativedelta\n",
    "\n",
    "start_date = datetime(2024, 6, 1)\n",
    "end_date = start_date + relativedelta(months=+36)\n",
    "monthly_dates = [start_date + relativedelta(months=+i) for i in range(0, 36)]\n",
    "final = []\n",
    "for date in monthly_dates:\n",
    "    final.append(date.strftime('%Y-%m-%d'))\n",
    "further_LSTM = pd.DataFrame({'Timestamp': final, 'Predicted': y_pred})"
   ]
  },
  {
   "cell_type": "code",
   "execution_count": 431,
   "metadata": {
    "tags": []
   },
   "outputs": [
    {
     "data": {
      "text/html": [
       "<div>\n",
       "<style scoped>\n",
       "    .dataframe tbody tr th:only-of-type {\n",
       "        vertical-align: middle;\n",
       "    }\n",
       "\n",
       "    .dataframe tbody tr th {\n",
       "        vertical-align: top;\n",
       "    }\n",
       "\n",
       "    .dataframe thead th {\n",
       "        text-align: right;\n",
       "    }\n",
       "</style>\n",
       "<table border=\"1\" class=\"dataframe\">\n",
       "  <thead>\n",
       "    <tr style=\"text-align: right;\">\n",
       "      <th></th>\n",
       "      <th>Timestamp</th>\n",
       "      <th>Predicted</th>\n",
       "    </tr>\n",
       "  </thead>\n",
       "  <tbody>\n",
       "    <tr>\n",
       "      <th>323</th>\n",
       "      <td>2016-12-01</td>\n",
       "      <td>2144.156315</td>\n",
       "    </tr>\n",
       "    <tr>\n",
       "      <th>324</th>\n",
       "      <td>2017-01-01</td>\n",
       "      <td>2157.527281</td>\n",
       "    </tr>\n",
       "    <tr>\n",
       "      <th>325</th>\n",
       "      <td>2017-02-01</td>\n",
       "      <td>2195.148219</td>\n",
       "    </tr>\n",
       "    <tr>\n",
       "      <th>326</th>\n",
       "      <td>2017-03-01</td>\n",
       "      <td>2229.830762</td>\n",
       "    </tr>\n",
       "    <tr>\n",
       "      <th>327</th>\n",
       "      <td>2017-04-01</td>\n",
       "      <td>2259.430831</td>\n",
       "    </tr>\n",
       "  </tbody>\n",
       "</table>\n",
       "</div>"
      ],
      "text/plain": [
       "     Timestamp    Predicted\n",
       "323 2016-12-01  2144.156315\n",
       "324 2017-01-01  2157.527281\n",
       "325 2017-02-01  2195.148219\n",
       "326 2017-03-01  2229.830762\n",
       "327 2017-04-01  2259.430831"
      ]
     },
     "execution_count": 431,
     "metadata": {},
     "output_type": "execute_result"
    }
   ],
   "source": [
    "result = pd.concat([temp_LSTM,further_LSTM])\n",
    "result['Timestamp'] = pd.to_datetime(result['Timestamp'])\n",
    "result.head(5)"
   ]
  },
  {
   "cell_type": "code",
   "execution_count": 432,
   "metadata": {
    "tags": []
   },
   "outputs": [
    {
     "data": {
      "text/plain": [
       "[<matplotlib.lines.Line2D at 0x234732edd90>]"
      ]
     },
     "execution_count": 432,
     "metadata": {},
     "output_type": "execute_result"
    },
    {
     "data": {
      "image/png": "[encoded data removed]",
      "text/plain": [
       "<Figure size 640x480 with 1 Axes>"
      ]
     },
     "metadata": {},
     "output_type": "display_data"
    }
   ],
   "source": [
    "plt.plot(result['Timestamp'],result['Predicted'])"
   ]
  },
  {
   "cell_type": "code",
   "execution_count": 434,
   "metadata": {
    "tags": []
   },
   "outputs": [],
   "source": [
    "import sqlite3\n",
    "conn = sqlite3.connect(r'C:\\Users\\shami\\OneDrive\\Desktop\\university\\Data_Mining_Lab\\project\\git\\data.db')\n",
    "result.to_sql('LSTM_Prediction', conn, if_exists='replace', index=False)\n",
    "conn.commit()\n",
    "conn.close()"
   ]
  },
  {
   "cell_type": "code",
   "execution_count": 407,
   "metadata": {
    "tags": []
   },
   "outputs": [
    {
     "data": {
      "text/plain": [
       "0.5675415396690369"
      ]
     },
     "execution_count": 407,
     "metadata": {},
     "output_type": "execute_result"
    }
   ],
   "source": [
    "history_tensor = torch.tensor(history).unsqueeze(0).unsqueeze(2).float()\n",
    "with torch.no_grad():\n",
    "    predicted = float(model(history_tensor.to(device)).to('cpu'))\n",
    "predicted"
   ]
  },
  {
   "cell_type": "code",
   "execution_count": 216,
   "metadata": {
    "colab": {
     "base_uri": "https://localhost:8080/",
     "height": 17
    },
    "id": "0AviF2R5pbq5",
    "outputId": "ea908011-7ee0-4777-c86f-591f2f901877"
   },
   "outputs": [
    {
     "data": {
      "application/javascript": [
       "\n",
       "    async function download(id, filename, size) {\n",
       "      if (!google.colab.kernel.accessAllowed) {\n",
       "        return;\n",
       "      }\n",
       "      const div = document.createElement('div');\n",
       "      const label = document.createElement('label');\n",
       "      label.textContent = `Downloading \"${filename}\": `;\n",
       "      div.appendChild(label);\n",
       "      const progress = document.createElement('progress');\n",
       "      progress.max = size;\n",
       "      div.appendChild(progress);\n",
       "      document.body.appendChild(div);\n",
       "\n",
       "      const buffers = [];\n",
       "      let downloaded = 0;\n",
       "\n",
       "      const channel = await google.colab.kernel.comms.open(id);\n",
       "      // Send a message to notify the kernel that we're ready.\n",
       "      channel.send({})\n",
       "\n",
       "      for await (const message of channel.messages) {\n",
       "        // Send a message to notify the kernel that we're ready.\n",
       "        channel.send({})\n",
       "        if (message.buffers) {\n",
       "          for (const buffer of message.buffers) {\n",
       "            buffers.push(buffer);\n",
       "            downloaded += buffer.byteLength;\n",
       "            progress.value = downloaded;\n",
       "          }\n",
       "        }\n",
       "      }\n",
       "      const blob = new Blob(buffers, {type: 'application/binary'});\n",
       "      const a = document.createElement('a');\n",
       "      a.href = window.URL.createObjectURL(blob);\n",
       "      a.download = filename;\n",
       "      div.appendChild(a);\n",
       "      a.click();\n",
       "      div.remove();\n",
       "    }\n",
       "  "
      ],
      "text/plain": [
       "<IPython.core.display.Javascript object>"
      ]
     },
     "metadata": {},
     "output_type": "display_data"
    },
    {
     "data": {
      "application/javascript": [
       "download(\"download_099e374b-7028-4c2b-88da-87c7b11fda5e\", \"lstm.pth\", 5646)"
      ],
      "text/plain": [
       "<IPython.core.display.Javascript object>"
      ]
     },
     "metadata": {},
     "output_type": "display_data"
    },
    {
     "data": {
      "application/javascript": [
       "\n",
       "    async function download(id, filename, size) {\n",
       "      if (!google.colab.kernel.accessAllowed) {\n",
       "        return;\n",
       "      }\n",
       "      const div = document.createElement('div');\n",
       "      const label = document.createElement('label');\n",
       "      label.textContent = `Downloading \"${filename}\": `;\n",
       "      div.appendChild(label);\n",
       "      const progress = document.createElement('progress');\n",
       "      progress.max = size;\n",
       "      div.appendChild(progress);\n",
       "      document.body.appendChild(div);\n",
       "\n",
       "      const buffers = [];\n",
       "      let downloaded = 0;\n",
       "\n",
       "      const channel = await google.colab.kernel.comms.open(id);\n",
       "      // Send a message to notify the kernel that we're ready.\n",
       "      channel.send({})\n",
       "\n",
       "      for await (const message of channel.messages) {\n",
       "        // Send a message to notify the kernel that we're ready.\n",
       "        channel.send({})\n",
       "        if (message.buffers) {\n",
       "          for (const buffer of message.buffers) {\n",
       "            buffers.push(buffer);\n",
       "            downloaded += buffer.byteLength;\n",
       "            progress.value = downloaded;\n",
       "          }\n",
       "        }\n",
       "      }\n",
       "      const blob = new Blob(buffers, {type: 'application/binary'});\n",
       "      const a = document.createElement('a');\n",
       "      a.href = window.URL.createObjectURL(blob);\n",
       "      a.download = filename;\n",
       "      div.appendChild(a);\n",
       "      a.click();\n",
       "      div.remove();\n",
       "    }\n",
       "  "
      ],
      "text/plain": [
       "<IPython.core.display.Javascript object>"
      ]
     },
     "metadata": {},
     "output_type": "display_data"
    },
    {
     "data": {
      "application/javascript": [
       "download(\"download_0937b7ac-3fe2-4d57-92f8-9bc83d5a3dfe\", \"mms.pkl\", 644)"
      ],
      "text/plain": [
       "<IPython.core.display.Javascript object>"
      ]
     },
     "metadata": {},
     "output_type": "display_data"
    }
   ],
   "source": [
    "torch.save(model, 'lstm.pth')\n",
    "from google.colab import files\n",
    "files.download('lstm.pth')\n",
    "import pickle\n",
    "with open('mms.pkl', 'wb') as file:\n",
    "    pickle.dump(scaler, file)\n",
    "files.download('mms.pkl')"
   ]
  },
  {
   "cell_type": "code",
   "execution_count": 224,
   "metadata": {
    "colab": {
     "base_uri": "https://localhost:8080/",
     "height": 17
    },
    "id": "xeXjbdTsrlwa",
    "outputId": "e514e1d0-99af-499b-9a21-6f96a70a13aa"
   },
   "outputs": [
    {
     "data": {
      "application/javascript": [
       "\n",
       "    async function download(id, filename, size) {\n",
       "      if (!google.colab.kernel.accessAllowed) {\n",
       "        return;\n",
       "      }\n",
       "      const div = document.createElement('div');\n",
       "      const label = document.createElement('label');\n",
       "      label.textContent = `Downloading \"${filename}\": `;\n",
       "      div.appendChild(label);\n",
       "      const progress = document.createElement('progress');\n",
       "      progress.max = size;\n",
       "      div.appendChild(progress);\n",
       "      document.body.appendChild(div);\n",
       "\n",
       "      const buffers = [];\n",
       "      let downloaded = 0;\n",
       "\n",
       "      const channel = await google.colab.kernel.comms.open(id);\n",
       "      // Send a message to notify the kernel that we're ready.\n",
       "      channel.send({})\n",
       "\n",
       "      for await (const message of channel.messages) {\n",
       "        // Send a message to notify the kernel that we're ready.\n",
       "        channel.send({})\n",
       "        if (message.buffers) {\n",
       "          for (const buffer of message.buffers) {\n",
       "            buffers.push(buffer);\n",
       "            downloaded += buffer.byteLength;\n",
       "            progress.value = downloaded;\n",
       "          }\n",
       "        }\n",
       "      }\n",
       "      const blob = new Blob(buffers, {type: 'application/binary'});\n",
       "      const a = document.createElement('a');\n",
       "      a.href = window.URL.createObjectURL(blob);\n",
       "      a.download = filename;\n",
       "      div.appendChild(a);\n",
       "      a.click();\n",
       "      div.remove();\n",
       "    }\n",
       "  "
      ],
      "text/plain": [
       "<IPython.core.display.Javascript object>"
      ]
     },
     "metadata": {},
     "output_type": "display_data"
    },
    {
     "data": {
      "application/javascript": [
       "download(\"download_82633ced-f6ec-4605-9eae-9a764dde03ef\", \"lstm.csv\", 1100)"
      ],
      "text/plain": [
       "<IPython.core.display.Javascript object>"
      ]
     },
     "metadata": {},
     "output_type": "display_data"
    }
   ],
   "source": [
    "to_save = pd.DataFrame({'Date':data['Date'].iloc[-y_pred.shape[0]:], 'Actual':ny_test, 'Predicted':y_pred})\n",
    "to_save.to_csv('lstm.csv')\n",
    "files.download('lstm.csv')"
   ]
  },
  {
   "cell_type": "code",
   "execution_count": 221,
   "metadata": {
    "colab": {
     "base_uri": "https://localhost:8080/"
    },
    "id": "3-hqX_aet8Lp",
    "outputId": "e3cfc3aa-64f9-428f-d722-37d7b71ff2dc"
   },
   "outputs": [
    {
     "data": {
      "text/plain": [
       "(24,)"
      ]
     },
     "execution_count": 221,
     "metadata": {},
     "output_type": "execute_result"
    }
   ],
   "source": [
    "data['Date'].iloc[split_index:].shape"
   ]
  },
  {
   "cell_type": "code",
   "execution_count": 223,
   "metadata": {
    "colab": {
     "base_uri": "https://localhost:8080/"
    },
    "id": "5EfbBuocvl5y",
    "outputId": "cb0b49da-4afe-4a77-e834-426f205cec41"
   },
   "outputs": [
    {
     "data": {
      "text/plain": [
       "(21,)"
      ]
     },
     "execution_count": 223,
     "metadata": {},
     "output_type": "execute_result"
    }
   ],
   "source": [
    "y_pred.shape"
   ]
  },
  {
   "cell_type": "code",
   "execution_count": null,
   "metadata": {
    "id": "1orfqvAGvniD"
   },
   "outputs": [],
   "source": []
  }
 ],
 "metadata": {
  "accelerator": "GPU",
  "colab": {
   "gpuType": "T4",
   "provenance": []
  },
  "kernelspec": {
   "display_name": "Python 3 (ipykernel)",
   "language": "python",
   "name": "python3"
  },
  "language_info": {
   "codemirror_mode": {
    "name": "ipython",
    "version": 3
   },
   "file_extension": ".py",
   "mimetype": "text/x-python",
   "name": "python",
   "nbconvert_exporter": "python",
   "pygments_lexer": "ipython3",
   "version": "3.11.5"
  }
 },
 "nbformat": 4,
 "nbformat_minor": 4
}
