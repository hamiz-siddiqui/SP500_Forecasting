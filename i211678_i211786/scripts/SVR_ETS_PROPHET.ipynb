{
 "cells": [
  {
   "cell_type": "code",
   "execution_count": 2,
   "metadata": {
    "tags": []
   },
   "outputs": [],
   "source": [
    "import os\n",
    "import pandas as pd\n",
    "import numpy as np\n",
    "from datetime import datetime\n",
    "import matplotlib.pyplot as plt\n",
    "import seaborn as sns\n",
    "from sklearn.preprocessing import MinMaxScaler"
   ]
  },
  {
   "cell_type": "code",
   "execution_count": 3,
   "metadata": {
    "tags": []
   },
   "outputs": [],
   "source": [
    "df = pd.read_csv(r\"C:\\Users\\shami\\OneDrive\\Desktop\\university\\Data_Mining_Lab\\project\\git\\data.csv\")"
   ]
  },
  {
   "cell_type": "markdown",
   "metadata": {},
   "source": [
    "### Adding into db for easy retrieval"
   ]
  },
  {
   "cell_type": "code",
   "execution_count": 5,
   "metadata": {},
   "outputs": [
    {
     "data": {
      "text/plain": [
       "[('1990-01-01', 329.0799865722656),\n",
       " ('1990-02-01', 331.8900146484375),\n",
       " ('1990-03-01', 339.94000244140625),\n",
       " ('1990-04-01', 330.79998779296875),\n",
       " ('1990-05-01', 361.2300109863281),\n",
       " ('1990-06-01', 358.0199890136719),\n",
       " ('1990-07-01', 356.1499938964844),\n",
       " ('1990-08-01', 322.5599975585937),\n",
       " ('1990-09-01', 306.04998779296875),\n",
       " ('1990-10-01', 304.0)]"
      ]
     },
     "execution_count": 5,
     "metadata": {},
     "output_type": "execute_result"
    }
   ],
   "source": [
    "import sqlite3\n",
    "from sqlalchemy import create_engine\n",
    "to_store = pd.DataFrame(data={'Date': df['Date'], 'Close': df['Close']})\n",
    "engine = create_engine('sqlite:///spindex.db')\n",
    "to_store.to_sql('close_price', engine, if_exists='replace', index=False)\n",
    "engine.dispose()\n",
    "connect = sqlite3.connect('spindex.db')\n",
    "cursor = connect.cursor()\n",
    "result = cursor.execute('Select * from close_price limit 10')\n",
    "result.fetchall()"
   ]
  },
  {
   "cell_type": "markdown",
   "metadata": {
    "tags": []
   },
   "source": [
    "# SVR"
   ]
  },
  {
   "cell_type": "code",
   "execution_count": 1,
   "metadata": {},
   "outputs": [],
   "source": [
    "import pandas as pd\n",
    "import numpy as np\n",
    "from sqlalchemy import create_engine"
   ]
  },
  {
   "cell_type": "code",
   "execution_count": 2,
   "metadata": {},
   "outputs": [
    {
     "data": {
      "text/html": [
       "<div>\n",
       "<style scoped>\n",
       "    .dataframe tbody tr th:only-of-type {\n",
       "        vertical-align: middle;\n",
       "    }\n",
       "\n",
       "    .dataframe tbody tr th {\n",
       "        vertical-align: top;\n",
       "    }\n",
       "\n",
       "    .dataframe thead th {\n",
       "        text-align: right;\n",
       "    }\n",
       "</style>\n",
       "<table border=\"1\" class=\"dataframe\">\n",
       "  <thead>\n",
       "    <tr style=\"text-align: right;\">\n",
       "      <th></th>\n",
       "      <th>Date</th>\n",
       "      <th>Open</th>\n",
       "      <th>High</th>\n",
       "      <th>Low</th>\n",
       "      <th>Close</th>\n",
       "      <th>Adj Close</th>\n",
       "      <th>Volume</th>\n",
       "    </tr>\n",
       "  </thead>\n",
       "  <tbody>\n",
       "    <tr>\n",
       "      <th>0</th>\n",
       "      <td>1990-01-01</td>\n",
       "      <td>353.399994</td>\n",
       "      <td>360.589996</td>\n",
       "      <td>319.829987</td>\n",
       "      <td>329.079987</td>\n",
       "      <td>329.079987</td>\n",
       "      <td>3793250000</td>\n",
       "    </tr>\n",
       "    <tr>\n",
       "      <th>1</th>\n",
       "      <td>1990-02-01</td>\n",
       "      <td>329.079987</td>\n",
       "      <td>336.089996</td>\n",
       "      <td>322.100006</td>\n",
       "      <td>331.890015</td>\n",
       "      <td>331.890015</td>\n",
       "      <td>2961970000</td>\n",
       "    </tr>\n",
       "    <tr>\n",
       "      <th>2</th>\n",
       "      <td>1990-03-01</td>\n",
       "      <td>331.890015</td>\n",
       "      <td>344.489990</td>\n",
       "      <td>331.079987</td>\n",
       "      <td>339.940002</td>\n",
       "      <td>339.940002</td>\n",
       "      <td>3283280000</td>\n",
       "    </tr>\n",
       "    <tr>\n",
       "      <th>3</th>\n",
       "      <td>1990-04-01</td>\n",
       "      <td>339.940002</td>\n",
       "      <td>347.299988</td>\n",
       "      <td>327.760010</td>\n",
       "      <td>330.799988</td>\n",
       "      <td>330.799988</td>\n",
       "      <td>2801220000</td>\n",
       "    </tr>\n",
       "    <tr>\n",
       "      <th>4</th>\n",
       "      <td>1990-05-01</td>\n",
       "      <td>330.799988</td>\n",
       "      <td>362.260010</td>\n",
       "      <td>330.799988</td>\n",
       "      <td>361.230011</td>\n",
       "      <td>361.230011</td>\n",
       "      <td>3596680000</td>\n",
       "    </tr>\n",
       "  </tbody>\n",
       "</table>\n",
       "</div>"
      ],
      "text/plain": [
       "        Date        Open        High         Low       Close   Adj Close   \n",
       "0 1990-01-01  353.399994  360.589996  319.829987  329.079987  329.079987  \\\n",
       "1 1990-02-01  329.079987  336.089996  322.100006  331.890015  331.890015   \n",
       "2 1990-03-01  331.890015  344.489990  331.079987  339.940002  339.940002   \n",
       "3 1990-04-01  339.940002  347.299988  327.760010  330.799988  330.799988   \n",
       "4 1990-05-01  330.799988  362.260010  330.799988  361.230011  361.230011   \n",
       "\n",
       "       Volume  \n",
       "0  3793250000  \n",
       "1  2961970000  \n",
       "2  3283280000  \n",
       "3  2801220000  \n",
       "4  3596680000  "
      ]
     },
     "execution_count": 2,
     "metadata": {},
     "output_type": "execute_result"
    }
   ],
   "source": [
    "df = pd.read_csv('data.csv')\n",
    "df['Date'] = pd.to_datetime(df['Date'])\n",
    "df.head()"
   ]
  },
  {
   "cell_type": "code",
   "execution_count": 4,
   "metadata": {
    "tags": []
   },
   "outputs": [],
   "source": [
    "svr_data = df[['Date', 'Close']]"
   ]
  },
  {
   "cell_type": "code",
   "execution_count": 5,
   "metadata": {
    "tags": []
   },
   "outputs": [
    {
     "data": {
      "text/html": [
       "<div>\n",
       "<style scoped>\n",
       "    .dataframe tbody tr th:only-of-type {\n",
       "        vertical-align: middle;\n",
       "    }\n",
       "\n",
       "    .dataframe tbody tr th {\n",
       "        vertical-align: top;\n",
       "    }\n",
       "\n",
       "    .dataframe thead th {\n",
       "        text-align: right;\n",
       "    }\n",
       "</style>\n",
       "<table border=\"1\" class=\"dataframe\">\n",
       "  <thead>\n",
       "    <tr style=\"text-align: right;\">\n",
       "      <th></th>\n",
       "      <th>Date</th>\n",
       "      <th>Close</th>\n",
       "    </tr>\n",
       "  </thead>\n",
       "  <tbody>\n",
       "    <tr>\n",
       "      <th>0</th>\n",
       "      <td>1990-01-01</td>\n",
       "      <td>329.079987</td>\n",
       "    </tr>\n",
       "    <tr>\n",
       "      <th>1</th>\n",
       "      <td>1990-02-01</td>\n",
       "      <td>331.890015</td>\n",
       "    </tr>\n",
       "    <tr>\n",
       "      <th>2</th>\n",
       "      <td>1990-03-01</td>\n",
       "      <td>339.940002</td>\n",
       "    </tr>\n",
       "    <tr>\n",
       "      <th>3</th>\n",
       "      <td>1990-04-01</td>\n",
       "      <td>330.799988</td>\n",
       "    </tr>\n",
       "    <tr>\n",
       "      <th>4</th>\n",
       "      <td>1990-05-01</td>\n",
       "      <td>361.230011</td>\n",
       "    </tr>\n",
       "  </tbody>\n",
       "</table>\n",
       "</div>"
      ],
      "text/plain": [
       "         Date       Close\n",
       "0  1990-01-01  329.079987\n",
       "1  1990-02-01  331.890015\n",
       "2  1990-03-01  339.940002\n",
       "3  1990-04-01  330.799988\n",
       "4  1990-05-01  361.230011"
      ]
     },
     "execution_count": 5,
     "metadata": {},
     "output_type": "execute_result"
    }
   ],
   "source": [
    "svr_data.head()"
   ]
  },
  {
   "cell_type": "code",
   "execution_count": 6,
   "metadata": {
    "scrolled": true,
    "tags": []
   },
   "outputs": [
    {
     "data": {
      "text/html": [
       "<div>\n",
       "<style scoped>\n",
       "    .dataframe tbody tr th:only-of-type {\n",
       "        vertical-align: middle;\n",
       "    }\n",
       "\n",
       "    .dataframe tbody tr th {\n",
       "        vertical-align: top;\n",
       "    }\n",
       "\n",
       "    .dataframe thead th {\n",
       "        text-align: right;\n",
       "    }\n",
       "</style>\n",
       "<table border=\"1\" class=\"dataframe\">\n",
       "  <thead>\n",
       "    <tr style=\"text-align: right;\">\n",
       "      <th></th>\n",
       "      <th>Close</th>\n",
       "    </tr>\n",
       "    <tr>\n",
       "      <th>Date</th>\n",
       "      <th></th>\n",
       "    </tr>\n",
       "  </thead>\n",
       "  <tbody>\n",
       "    <tr>\n",
       "      <th>1990-03-01</th>\n",
       "      <td>5.239960</td>\n",
       "    </tr>\n",
       "    <tr>\n",
       "      <th>1990-04-01</th>\n",
       "      <td>-17.190002</td>\n",
       "    </tr>\n",
       "    <tr>\n",
       "      <th>1990-05-01</th>\n",
       "      <td>39.570038</td>\n",
       "    </tr>\n",
       "    <tr>\n",
       "      <th>1990-06-01</th>\n",
       "      <td>-33.640045</td>\n",
       "    </tr>\n",
       "    <tr>\n",
       "      <th>1990-07-01</th>\n",
       "      <td>1.340027</td>\n",
       "    </tr>\n",
       "  </tbody>\n",
       "</table>\n",
       "</div>"
      ],
      "text/plain": [
       "                Close\n",
       "Date                 \n",
       "1990-03-01   5.239960\n",
       "1990-04-01 -17.190002\n",
       "1990-05-01  39.570038\n",
       "1990-06-01 -33.640045\n",
       "1990-07-01   1.340027"
      ]
     },
     "execution_count": 6,
     "metadata": {},
     "output_type": "execute_result"
    }
   ],
   "source": [
    "svr_data = df.copy(deep=True)\n",
    "svr_data.set_index('Date', inplace=True)\n",
    "svr_data = svr_data[['Close']]\n",
    "svr_data = svr_data.diff().diff()\n",
    "svr_data.dropna(inplace=True)\n",
    "svr_data.head()"
   ]
  },
  {
   "cell_type": "code",
   "execution_count": 134,
   "metadata": {},
   "outputs": [
    {
     "name": "stdout",
     "output_type": "stream",
     "text": [
      "Outer Cross-Validation Scores: [-1763.57848542 -1451.47785042 -1528.75768926 -1697.8580694\n",
      " -1656.30384201]\n",
      "Average Outer Cross-Validation Score: 1619.595187298689\n",
      "The evaluations are as follows\n",
      "Mean Squared Error: 4965373.668902173\n",
      "Mean Absolute Error: 1846.3290477934338\n",
      "R2 Score: -2.1902064992795607\n"
     ]
    }
   ],
   "source": [
    "from sklearn.svm import LinearSVR\n",
    "from sklearn.model_selection import train_test_split, GridSearchCV, KFold, cross_val_score\n",
    "from sklearn.metrics import mean_squared_error, r2_score, mean_absolute_error\n",
    "from warnings import filterwarnings\n",
    "filterwarnings('ignore')\n",
    "svr = LinearSVR()\n",
    "X = svr_data['Date'].values.astype(np.float32)\n",
    "X = X.reshape(-1, 1)\n",
    "y = svr_data['Close'].values\n",
    "folds = KFold(n_splits=5, shuffle=True, random_state=42)\n",
    "parameters = {'C':[1, 10], 'max_iter':[1000, 20000]} #The parameters to tune for this model. \n",
    "X_train, X_test, y_train, y_test = train_test_split(X, y, test_size=0.05, random_state=42)\n",
    "svr_tuned = GridSearchCV(svr, parameters)\n",
    "svr_tuned.fit(X_train, y_train)\n",
    "kfscore = cross_val_score(svr_tuned, X_train, y_train, cv=folds, scoring='neg_mean_absolute_error')\n",
    "print(\"Outer Cross-Validation Scores:\", kfscore)\n",
    "print(\"Average Outer Cross-Validation Score:\", np.abs(np.mean(kfscore)))\n",
    "y_pred = svr_tuned.predict(X_test)\n",
    "print(f'The evaluations are as follows\\nMean Squared Error: {mean_squared_error(y_test, y_pred)}\\nMean Absolute Error: {mean_absolute_error(y_test, y_pred)}\\nR2 Score: {r2_score(y_test, y_pred)}')"
   ]
  },
  {
   "cell_type": "code",
   "execution_count": 135,
   "metadata": {},
   "outputs": [],
   "source": [
    "to_save = pd.DataFrame({'Date':pd.to_datetime(X_test.reshape(-1,)), 'Actual':y_test, 'Predicted':y_pred})\n",
    "to_save.to_csv('svr.csv')\n",
    "import pickle\n",
    "with open('svr.pkl', 'wb') as file:\n",
    "    pickle.dump(svr, file)"
   ]
  },
  {
   "cell_type": "markdown",
   "metadata": {},
   "source": [
    "# ETS"
   ]
  },
  {
   "cell_type": "code",
   "execution_count": 7,
   "metadata": {
    "tags": []
   },
   "outputs": [],
   "source": [
    "import pandas as pd\n",
    "import numpy as np\n",
    "from sqlalchemy import create_engine"
   ]
  },
  {
   "cell_type": "code",
   "execution_count": 137,
   "metadata": {},
   "outputs": [
    {
     "data": {
      "text/html": [
       "<div>\n",
       "<style scoped>\n",
       "    .dataframe tbody tr th:only-of-type {\n",
       "        vertical-align: middle;\n",
       "    }\n",
       "\n",
       "    .dataframe tbody tr th {\n",
       "        vertical-align: top;\n",
       "    }\n",
       "\n",
       "    .dataframe thead th {\n",
       "        text-align: right;\n",
       "    }\n",
       "</style>\n",
       "<table border=\"1\" class=\"dataframe\">\n",
       "  <thead>\n",
       "    <tr style=\"text-align: right;\">\n",
       "      <th></th>\n",
       "      <th>Date</th>\n",
       "      <th>Close</th>\n",
       "    </tr>\n",
       "  </thead>\n",
       "  <tbody>\n",
       "    <tr>\n",
       "      <th>0</th>\n",
       "      <td>1990-01-01</td>\n",
       "      <td>329.079987</td>\n",
       "    </tr>\n",
       "    <tr>\n",
       "      <th>1</th>\n",
       "      <td>1990-02-01</td>\n",
       "      <td>331.890015</td>\n",
       "    </tr>\n",
       "    <tr>\n",
       "      <th>2</th>\n",
       "      <td>1990-03-01</td>\n",
       "      <td>339.940002</td>\n",
       "    </tr>\n",
       "    <tr>\n",
       "      <th>3</th>\n",
       "      <td>1990-04-01</td>\n",
       "      <td>330.799988</td>\n",
       "    </tr>\n",
       "    <tr>\n",
       "      <th>4</th>\n",
       "      <td>1990-05-01</td>\n",
       "      <td>361.230011</td>\n",
       "    </tr>\n",
       "  </tbody>\n",
       "</table>\n",
       "</div>"
      ],
      "text/plain": [
       "        Date       Close\n",
       "0 1990-01-01  329.079987\n",
       "1 1990-02-01  331.890015\n",
       "2 1990-03-01  339.940002\n",
       "3 1990-04-01  330.799988\n",
       "4 1990-05-01  361.230011"
      ]
     },
     "execution_count": 137,
     "metadata": {},
     "output_type": "execute_result"
    }
   ],
   "source": [
    "df = pd.read_csv('data.csv')\n",
    "df['Date'] = pd.to_datetime(df['Date'])\n",
    "df = df[['Date', 'Close']]\n",
    "df.head()"
   ]
  },
  {
   "cell_type": "code",
   "execution_count": 66,
   "metadata": {
    "tags": []
   },
   "outputs": [
    {
     "data": {
      "text/plain": [
       "['2024-06-01', '2024-07-01', '2024-08-01', '2024-09-01', '2024-10-01']"
      ]
     },
     "execution_count": 66,
     "metadata": {},
     "output_type": "execute_result"
    }
   ],
   "source": [
    "from datetime import datetime, timedelta\n",
    "from dateutil.relativedelta import relativedelta\n",
    "\n",
    "start_date = datetime(2024, 6, 1)\n",
    "end_date = start_date + relativedelta(months=+36)\n",
    "monthly_dates = [start_date + relativedelta(months=+i) for i in range(0, 36)]\n",
    "final = []\n",
    "for date in monthly_dates:\n",
    "    final.append(date.strftime('%Y-%m-%d'))\n",
    "final[:5]"
   ]
  },
  {
   "cell_type": "code",
   "execution_count": 61,
   "metadata": {
    "tags": []
   },
   "outputs": [],
   "source": [
    "from statsmodels.tsa.holtwinters import SimpleExpSmoothing, Holt, ExponentialSmoothing\n",
    "series = pd.Series(data=df['Close'].values, index=df['Date'])\n",
    "size = 320\n",
    "train = series.iloc[:size]\n",
    "test = series.iloc[size:]\n",
    "X_train, X_test = train.index.values, test.index.values\n",
    "y_train, y_test = train.values, test.values"
   ]
  },
  {
   "cell_type": "code",
   "execution_count": 67,
   "metadata": {
    "tags": []
   },
   "outputs": [],
   "source": [
    "dates = np.array(list(X_test) + final)"
   ]
  },
  {
   "cell_type": "code",
   "execution_count": 68,
   "metadata": {
    "tags": []
   },
   "outputs": [
    {
     "data": {
      "text/plain": [
       "array(['2016-09-01', '2016-10-01', '2016-11-01', '2016-12-01',\n",
       "       '2017-01-01'], dtype='<U10')"
      ]
     },
     "execution_count": 68,
     "metadata": {},
     "output_type": "execute_result"
    }
   ],
   "source": [
    "dates[:5]"
   ]
  },
  {
   "cell_type": "code",
   "execution_count": 69,
   "metadata": {
    "tags": []
   },
   "outputs": [
    {
     "name": "stderr",
     "output_type": "stream",
     "text": [
      "C:\\Users\\shami\\anaconda3\\Lib\\site-packages\\statsmodels\\tsa\\base\\tsa_model.py:473: ValueWarning: No frequency information was provided, so inferred frequency MS will be used.\n",
      "  self._init_dates(dates, freq)\n"
     ]
    }
   ],
   "source": [
    "model = ExponentialSmoothing(train, trend='add', seasonal=None)\n",
    "fit = model.fit(smoothing_level=1, smoothing_trend=0.05, smoothing_seasonal=0.04)"
   ]
  },
  {
   "cell_type": "code",
   "execution_count": 73,
   "metadata": {
    "tags": []
   },
   "outputs": [
    {
     "data": {
      "text/html": [
       "<div>\n",
       "<style scoped>\n",
       "    .dataframe tbody tr th:only-of-type {\n",
       "        vertical-align: middle;\n",
       "    }\n",
       "\n",
       "    .dataframe tbody tr th {\n",
       "        vertical-align: top;\n",
       "    }\n",
       "\n",
       "    .dataframe thead th {\n",
       "        text-align: right;\n",
       "    }\n",
       "</style>\n",
       "<table border=\"1\" class=\"dataframe\">\n",
       "  <thead>\n",
       "    <tr style=\"text-align: right;\">\n",
       "      <th></th>\n",
       "      <th>Timestamp</th>\n",
       "      <th>Predicted</th>\n",
       "    </tr>\n",
       "  </thead>\n",
       "  <tbody>\n",
       "    <tr>\n",
       "      <th>0</th>\n",
       "      <td>2016-09-01</td>\n",
       "      <td>2183.617872</td>\n",
       "    </tr>\n",
       "    <tr>\n",
       "      <th>1</th>\n",
       "      <td>2016-10-01</td>\n",
       "      <td>2196.285793</td>\n",
       "    </tr>\n",
       "    <tr>\n",
       "      <th>2</th>\n",
       "      <td>2016-11-01</td>\n",
       "      <td>2208.953714</td>\n",
       "    </tr>\n",
       "    <tr>\n",
       "      <th>3</th>\n",
       "      <td>2016-12-01</td>\n",
       "      <td>2221.621635</td>\n",
       "    </tr>\n",
       "    <tr>\n",
       "      <th>4</th>\n",
       "      <td>2017-01-01</td>\n",
       "      <td>2234.289555</td>\n",
       "    </tr>\n",
       "  </tbody>\n",
       "</table>\n",
       "</div>"
      ],
      "text/plain": [
       "   Timestamp    Predicted\n",
       "0 2016-09-01  2183.617872\n",
       "1 2016-10-01  2196.285793\n",
       "2 2016-11-01  2208.953714\n",
       "3 2016-12-01  2221.621635\n",
       "4 2017-01-01  2234.289555"
      ]
     },
     "execution_count": 73,
     "metadata": {},
     "output_type": "execute_result"
    }
   ],
   "source": [
    "x = fit.forecast(dates.shape[0]).values\n",
    "ETS_temp = pd.DataFrame({'Timestamp': dates, 'Predicted': x})\n",
    "ETS_temp['Timestamp'] = pd.to_datetime(ETS_temp['Timestamp'])\n",
    "ETS_temp.head(5)"
   ]
  },
  {
   "cell_type": "code",
   "execution_count": 74,
   "metadata": {
    "tags": []
   },
   "outputs": [],
   "source": [
    "import sqlite3\n",
    "conn = sqlite3.connect(r'C:\\Users\\shami\\OneDrive\\Desktop\\university\\Data_Mining_Lab\\project\\git\\data.db')\n",
    "ETS_temp.to_sql('ETS_Prediction', conn, if_exists='replace', index=False)\n",
    "conn.commit()\n",
    "conn.close()"
   ]
  },
  {
   "cell_type": "code",
   "execution_count": 52,
   "metadata": {
    "tags": []
   },
   "outputs": [
    {
     "data": {
      "image/png": "[encoded data removed]",
      "text/plain": [
       "<Figure size 1600x900 with 1 Axes>"
      ]
     },
     "metadata": {},
     "output_type": "display_data"
    }
   ],
   "source": [
    "import matplotlib.pyplot as plt\n",
    "plt.figure(figsize=(16,9))\n",
    "plt.plot(pd.to_datetime(X_test), y_test, 'red', label='Actual')\n",
    "plt.plot(pd.to_datetime(X_test), fit.forecast(X_test.shape[0]).values, 'blue', label=\"Predicted\")\n",
    "plt.legend()\n",
    "plt.show()"
   ]
  },
  {
   "cell_type": "code",
   "execution_count": 58,
   "metadata": {
    "tags": []
   },
   "outputs": [
    {
     "data": {
      "text/plain": [
       "array(['2016-09-01', '2016-10-01', '2016-11-01', '2016-12-01',\n",
       "       '2017-01-01', '2017-02-01', '2017-03-01', '2017-04-01',\n",
       "       '2017-05-01', '2017-06-01', '2017-07-01', '2017-08-01',\n",
       "       '2017-09-01', '2017-10-01', '2017-11-01', '2017-12-01',\n",
       "       '2018-01-01', '2018-02-01', '2018-03-01', '2018-04-01',\n",
       "       '2018-05-01', '2018-06-01', '2018-07-01', '2018-08-01',\n",
       "       '2018-09-01', '2018-10-01', '2018-11-01', '2018-12-01',\n",
       "       '2019-01-01', '2019-02-01', '2019-03-01', '2019-04-01',\n",
       "       '2019-05-01', '2019-06-01', '2019-07-01', '2019-08-01',\n",
       "       '2019-09-01', '2019-10-01', '2019-11-01', '2019-12-01',\n",
       "       '2020-01-01', '2020-02-01', '2020-03-01', '2020-04-01',\n",
       "       '2020-05-01', '2020-06-01', '2020-07-01', '2020-08-01',\n",
       "       '2020-09-01', '2020-10-01', '2020-11-01', '2020-12-01',\n",
       "       '2021-01-01', '2021-02-01', '2021-03-01', '2021-04-01',\n",
       "       '2021-05-01', '2021-06-01', '2021-07-01', '2021-08-01',\n",
       "       '2021-09-01', '2021-10-01', '2021-11-01', '2021-12-01',\n",
       "       '2022-01-01', '2022-02-01', '2022-03-01', '2022-04-01',\n",
       "       '2022-05-01', '2022-06-01', '2022-07-01', '2022-08-01',\n",
       "       '2022-09-01', '2022-10-01', '2022-11-01', '2022-12-01',\n",
       "       '2023-01-01', '2023-02-01', '2023-03-01', '2023-04-01',\n",
       "       '2023-05-01', '2023-06-01', '2023-07-01', '2023-08-01',\n",
       "       '2023-09-01', '2023-10-01', '2023-11-01', '2023-12-01',\n",
       "       '2024-01-01', '2024-02-01', '2024-03-01', '2024-04-01',\n",
       "       '2024-05-01'], dtype=object)"
      ]
     },
     "execution_count": 58,
     "metadata": {},
     "output_type": "execute_result"
    }
   ],
   "source": [
    "X_test"
   ]
  },
  {
   "cell_type": "code",
   "execution_count": 53,
   "metadata": {
    "tags": []
   },
   "outputs": [
    {
     "name": "stdout",
     "output_type": "stream",
     "text": [
      "The evaluations are as follows\n",
      "Mean Squared Error: 796342.7452688022\n",
      "Mean Absolute Error: 708.0671160179871\n",
      "R2 Score: -0.08839938368423295\n"
     ]
    }
   ],
   "source": [
    "from sklearn.metrics import mean_squared_error, r2_score, mean_absolute_error\n",
    "y_pred = fit.forecast(X_test.shape[0])\n",
    "print(f'The evaluations are as follows\\nMean Squared Error: {mean_squared_error(y_test, y_pred)}\\nMean Absolute Error: {mean_absolute_error(y_test, y_pred)}\\nR2 Score: {r2_score(y_test, y_pred)}')"
   ]
  },
  {
   "cell_type": "code",
   "execution_count": 142,
   "metadata": {},
   "outputs": [],
   "source": [
    "to_save = pd.DataFrame({'Date':series.index.values[-y_pred.shape[0]:], 'Actual':y_test, 'Predicted':y_pred})\n",
    "to_save.to_csv('ets.csv')"
   ]
  },
  {
   "cell_type": "code",
   "execution_count": 144,
   "metadata": {},
   "outputs": [],
   "source": [
    "import pickle\n",
    "fit.save('ets.pkl')"
   ]
  },
  {
   "cell_type": "markdown",
   "metadata": {},
   "source": [
    "# Prophet"
   ]
  },
  {
   "cell_type": "code",
   "execution_count": 86,
   "metadata": {
    "tags": []
   },
   "outputs": [
    {
     "data": {
      "text/plain": [
       "129"
      ]
     },
     "execution_count": 86,
     "metadata": {},
     "output_type": "execute_result"
    }
   ],
   "source": [
    "len(dates)"
   ]
  },
  {
   "cell_type": "code",
   "execution_count": 77,
   "metadata": {
    "tags": []
   },
   "outputs": [],
   "source": [
    "from prophet import Prophet"
   ]
  },
  {
   "cell_type": "code",
   "execution_count": 95,
   "metadata": {
    "tags": []
   },
   "outputs": [
    {
     "name": "stderr",
     "output_type": "stream",
     "text": [
      "00:23:01 - cmdstanpy - INFO - Chain [1] start processing\n",
      "00:23:02 - cmdstanpy - INFO - Chain [1] done processing\n"
     ]
    }
   ],
   "source": [
    "model = Prophet(yearly_seasonality=True, n_changepoints=50, seasonality_prior_scale=800, changepoint_prior_scale=10, seasonality_mode='multiplicative', interval_width=0.90)\n",
    "model.fit(pd.DataFrame({'ds':X_train, 'y':y_train}))\n",
    "future = model.make_future_dataframe(periods=len(X_test), freq='M')\n",
    "forecast = model.predict(future)"
   ]
  },
  {
   "cell_type": "code",
   "execution_count": 99,
   "metadata": {
    "tags": []
   },
   "outputs": [
    {
     "data": {
      "text/html": [
       "<div>\n",
       "<style scoped>\n",
       "    .dataframe tbody tr th:only-of-type {\n",
       "        vertical-align: middle;\n",
       "    }\n",
       "\n",
       "    .dataframe tbody tr th {\n",
       "        vertical-align: top;\n",
       "    }\n",
       "\n",
       "    .dataframe thead th {\n",
       "        text-align: right;\n",
       "    }\n",
       "</style>\n",
       "<table border=\"1\" class=\"dataframe\">\n",
       "  <thead>\n",
       "    <tr style=\"text-align: right;\">\n",
       "      <th></th>\n",
       "      <th>ds</th>\n",
       "      <th>yhat</th>\n",
       "    </tr>\n",
       "  </thead>\n",
       "  <tbody>\n",
       "    <tr>\n",
       "      <th>320</th>\n",
       "      <td>2016-08-31</td>\n",
       "      <td>2123.040851</td>\n",
       "    </tr>\n",
       "    <tr>\n",
       "      <th>321</th>\n",
       "      <td>2016-09-30</td>\n",
       "      <td>2343.306408</td>\n",
       "    </tr>\n",
       "    <tr>\n",
       "      <th>322</th>\n",
       "      <td>2016-10-31</td>\n",
       "      <td>2353.936460</td>\n",
       "    </tr>\n",
       "    <tr>\n",
       "      <th>323</th>\n",
       "      <td>2016-11-30</td>\n",
       "      <td>2357.848962</td>\n",
       "    </tr>\n",
       "    <tr>\n",
       "      <th>324</th>\n",
       "      <td>2016-12-31</td>\n",
       "      <td>2232.615236</td>\n",
       "    </tr>\n",
       "    <tr>\n",
       "      <th>...</th>\n",
       "      <td>...</td>\n",
       "      <td>...</td>\n",
       "    </tr>\n",
       "    <tr>\n",
       "      <th>408</th>\n",
       "      <td>2023-12-31</td>\n",
       "      <td>3352.607405</td>\n",
       "    </tr>\n",
       "    <tr>\n",
       "      <th>409</th>\n",
       "      <td>2024-01-31</td>\n",
       "      <td>3241.963059</td>\n",
       "    </tr>\n",
       "    <tr>\n",
       "      <th>410</th>\n",
       "      <td>2024-02-29</td>\n",
       "      <td>3804.639740</td>\n",
       "    </tr>\n",
       "    <tr>\n",
       "      <th>411</th>\n",
       "      <td>2024-03-31</td>\n",
       "      <td>3834.515124</td>\n",
       "    </tr>\n",
       "    <tr>\n",
       "      <th>412</th>\n",
       "      <td>2024-04-30</td>\n",
       "      <td>3799.283855</td>\n",
       "    </tr>\n",
       "  </tbody>\n",
       "</table>\n",
       "<p>93 rows × 2 columns</p>\n",
       "</div>"
      ],
      "text/plain": [
       "            ds         yhat\n",
       "320 2016-08-31  2123.040851\n",
       "321 2016-09-30  2343.306408\n",
       "322 2016-10-31  2353.936460\n",
       "323 2016-11-30  2357.848962\n",
       "324 2016-12-31  2232.615236\n",
       "..         ...          ...\n",
       "408 2023-12-31  3352.607405\n",
       "409 2024-01-31  3241.963059\n",
       "410 2024-02-29  3804.639740\n",
       "411 2024-03-31  3834.515124\n",
       "412 2024-04-30  3799.283855\n",
       "\n",
       "[93 rows x 2 columns]"
      ]
     },
     "execution_count": 99,
     "metadata": {},
     "output_type": "execute_result"
    }
   ],
   "source": [
    "forecast = forecast.tail(len(X_test))[['ds', 'yhat']]\n",
    "forecast"
   ]
  },
  {
   "cell_type": "code",
   "execution_count": 92,
   "metadata": {
    "tags": []
   },
   "outputs": [
    {
     "data": {
      "text/html": [
       "<div>\n",
       "<style scoped>\n",
       "    .dataframe tbody tr th:only-of-type {\n",
       "        vertical-align: middle;\n",
       "    }\n",
       "\n",
       "    .dataframe tbody tr th {\n",
       "        vertical-align: top;\n",
       "    }\n",
       "\n",
       "    .dataframe thead th {\n",
       "        text-align: right;\n",
       "    }\n",
       "</style>\n",
       "<table border=\"1\" class=\"dataframe\">\n",
       "  <thead>\n",
       "    <tr style=\"text-align: right;\">\n",
       "      <th></th>\n",
       "      <th>Timestamp</th>\n",
       "      <th>Predicted</th>\n",
       "    </tr>\n",
       "  </thead>\n",
       "  <tbody>\n",
       "    <tr>\n",
       "      <th>0</th>\n",
       "      <td>2016-09-01</td>\n",
       "      <td>2123.040851</td>\n",
       "    </tr>\n",
       "    <tr>\n",
       "      <th>1</th>\n",
       "      <td>2016-10-01</td>\n",
       "      <td>2343.306408</td>\n",
       "    </tr>\n",
       "    <tr>\n",
       "      <th>2</th>\n",
       "      <td>2016-11-01</td>\n",
       "      <td>2353.936460</td>\n",
       "    </tr>\n",
       "    <tr>\n",
       "      <th>3</th>\n",
       "      <td>2016-12-01</td>\n",
       "      <td>2357.848962</td>\n",
       "    </tr>\n",
       "    <tr>\n",
       "      <th>4</th>\n",
       "      <td>2017-01-01</td>\n",
       "      <td>2232.615236</td>\n",
       "    </tr>\n",
       "  </tbody>\n",
       "</table>\n",
       "</div>"
      ],
      "text/plain": [
       "   Timestamp    Predicted\n",
       "0 2016-09-01  2123.040851\n",
       "1 2016-10-01  2343.306408\n",
       "2 2016-11-01  2353.936460\n",
       "3 2016-12-01  2357.848962\n",
       "4 2017-01-01  2232.615236"
      ]
     },
     "execution_count": 92,
     "metadata": {},
     "output_type": "execute_result"
    }
   ],
   "source": [
    "Prophet_temp = pd.DataFrame({'Timestamp': dates, 'Predicted': forecast['yhat'].values})\n",
    "Prophet_temp['Timestamp'] = pd.to_datetime(Prophet_temp['Timestamp'])\n",
    "Prophet_temp.head(5)"
   ]
  },
  {
   "cell_type": "code",
   "execution_count": 94,
   "metadata": {
    "tags": []
   },
   "outputs": [],
   "source": [
    "import sqlite3\n",
    "conn = sqlite3.connect(r'C:\\Users\\shami\\OneDrive\\Desktop\\university\\Data_Mining_Lab\\project\\git\\data.db')\n",
    "Prophet_temp.to_sql('Prophet_Prediction', conn, if_exists='replace', index=False)\n",
    "conn.commit()\n",
    "conn.close()"
   ]
  },
  {
   "cell_type": "code",
   "execution_count": 100,
   "metadata": {
    "tags": []
   },
   "outputs": [
    {
     "data": {
      "image/png": "[encoded data removed]",
      "text/plain": [
       "<Figure size 1600x900 with 1 Axes>"
      ]
     },
     "metadata": {},
     "output_type": "display_data"
    }
   ],
   "source": [
    "plt.figure(figsize=(16,9))\n",
    "plt.plot(X_test, y_test, 'red', label='Training')\n",
    "plt.plot(X_test, forecast['yhat'].values, 'blue', label=\"Testing\")\n",
    "plt.show()"
   ]
  },
  {
   "cell_type": "code",
   "execution_count": 82,
   "metadata": {
    "tags": []
   },
   "outputs": [
    {
     "name": "stdout",
     "output_type": "stream",
     "text": [
      "The evaluations are as follows\n",
      "Mean Squared Error: 501481.1932221146\n",
      "Mean Absolute Error: 533.5816398912167\n",
      "R2 Score: 0.314601878556768\n"
     ]
    }
   ],
   "source": [
    "from sklearn.metrics import mean_squared_error, r2_score, mean_absolute_error\n",
    "y_pred = forecast['yhat']\n",
    "print(f'The evaluations are as follows\\nMean Squared Error: {mean_squared_error(y_test, y_pred)}\\nMean Absolute Error: {mean_absolute_error(y_test, y_pred)}\\nR2 Score: {r2_score(y_test, y_pred)}')"
   ]
  },
  {
   "cell_type": "code",
   "execution_count": 151,
   "metadata": {},
   "outputs": [],
   "source": [
    "to_save = pd.DataFrame({'Date':forecast['ds'].values, 'Actual':y_test, 'Predicted':y_pred})\n",
    "to_save.to_csv('Prophet.csv')"
   ]
  },
  {
   "cell_type": "code",
   "execution_count": 153,
   "metadata": {},
   "outputs": [],
   "source": [
    "from prophet.serialize import model_to_json\n",
    "with open('prophet.json', 'w') as fout:\n",
    "    fout.write(model_to_json(model))"
   ]
  },
  {
   "cell_type": "code",
   "execution_count": 102,
   "metadata": {
    "tags": []
   },
   "outputs": [
    {
     "name": "stdout",
     "output_type": "stream",
     "text": [
      "Tables in the database:\n",
      "Training\n",
      "Testing\n",
      "Arima_Prediction\n",
      "Sarima_Prediction\n",
      "ANN_Prediction\n",
      "LSTM_Prediction\n",
      "ETS_Prediction\n",
      "Prophet_Prediction\n"
     ]
    }
   ],
   "source": [
    "import sqlite3\n",
    "\n",
    "# Connect to the SQLite database\n",
    "conn = sqlite3.connect(r'C:\\Users\\shami\\OneDrive\\Desktop\\university\\Data_Mining_Lab\\project\\git\\data.db')\n",
    "\n",
    "# Create a cursor object to execute SQL commands\n",
    "cursor = conn.cursor()\n",
    "\n",
    "# Execute a query to get the names of all tables\n",
    "cursor.execute(\"SELECT name FROM sqlite_master WHERE type='table';\")\n",
    "\n",
    "# Fetch all rows from the result set\n",
    "tables = cursor.fetchall()\n",
    "\n",
    "# Extract table names from the result set\n",
    "table_names = [table[0] for table in tables]\n",
    "\n",
    "# Print the names of all tables\n",
    "print(\"Tables in the database:\")\n",
    "for table_name in table_names:\n",
    "    print(table_name)\n",
    "\n",
    "# Close the cursor and connection\n",
    "cursor.close()\n",
    "conn.close()\n"
   ]
  },
  {
   "cell_type": "code",
   "execution_count": null,
   "metadata": {},
   "outputs": [],
   "source": []
  }
 ],
 "metadata": {
  "kernelspec": {
   "display_name": "Python 3 (ipykernel)",
   "language": "python",
   "name": "python3"
  },
  "language_info": {
   "codemirror_mode": {
    "name": "ipython",
    "version": 3
   },
   "file_extension": ".py",
   "mimetype": "text/x-python",
   "name": "python",
   "nbconvert_exporter": "python",
   "pygments_lexer": "ipython3",
   "version": "3.11.5"
  }
 },
 "nbformat": 4,
 "nbformat_minor": 4
}
