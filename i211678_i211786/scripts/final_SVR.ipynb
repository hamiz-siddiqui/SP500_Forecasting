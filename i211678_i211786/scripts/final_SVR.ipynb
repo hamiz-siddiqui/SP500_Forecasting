{
 "cells": [
  {
   "cell_type": "code",
   "execution_count": 35,
   "id": "ba38cdad-2b0d-450e-8d2b-6f5a77dc7eb6",
   "metadata": {
    "tags": []
   },
   "outputs": [],
   "source": [
    "import pandas as pd\n",
    "import numpy as np\n",
    "from sklearn.svm import LinearSVR\n",
    "import matplotlib.pyplot as plt\n",
    "import warnings\n",
    "warnings.filterwarnings(\"ignore\")"
   ]
  },
  {
   "cell_type": "code",
   "execution_count": 4,
   "id": "dd7d986c-6fca-4511-bb20-ff1ec6ea33e6",
   "metadata": {
    "tags": []
   },
   "outputs": [
    {
     "data": {
      "text/html": [
       "<div>\n",
       "<style scoped>\n",
       "    .dataframe tbody tr th:only-of-type {\n",
       "        vertical-align: middle;\n",
       "    }\n",
       "\n",
       "    .dataframe tbody tr th {\n",
       "        vertical-align: top;\n",
       "    }\n",
       "\n",
       "    .dataframe thead th {\n",
       "        text-align: right;\n",
       "    }\n",
       "</style>\n",
       "<table border=\"1\" class=\"dataframe\">\n",
       "  <thead>\n",
       "    <tr style=\"text-align: right;\">\n",
       "      <th></th>\n",
       "      <th>Close</th>\n",
       "    </tr>\n",
       "    <tr>\n",
       "      <th>Date</th>\n",
       "      <th></th>\n",
       "    </tr>\n",
       "  </thead>\n",
       "  <tbody>\n",
       "    <tr>\n",
       "      <th>1990-01-01</th>\n",
       "      <td>329.079987</td>\n",
       "    </tr>\n",
       "    <tr>\n",
       "      <th>1990-02-01</th>\n",
       "      <td>331.890015</td>\n",
       "    </tr>\n",
       "    <tr>\n",
       "      <th>1990-03-01</th>\n",
       "      <td>339.940002</td>\n",
       "    </tr>\n",
       "    <tr>\n",
       "      <th>1990-04-01</th>\n",
       "      <td>330.799988</td>\n",
       "    </tr>\n",
       "    <tr>\n",
       "      <th>1990-05-01</th>\n",
       "      <td>361.230011</td>\n",
       "    </tr>\n",
       "  </tbody>\n",
       "</table>\n",
       "</div>"
      ],
      "text/plain": [
       "                 Close\n",
       "Date                  \n",
       "1990-01-01  329.079987\n",
       "1990-02-01  331.890015\n",
       "1990-03-01  339.940002\n",
       "1990-04-01  330.799988\n",
       "1990-05-01  361.230011"
      ]
     },
     "execution_count": 4,
     "metadata": {},
     "output_type": "execute_result"
    }
   ],
   "source": [
    "df = pd.read_csv(r\"C:\\Users\\shami\\OneDrive\\Desktop\\university\\Data_Mining_Lab\\project\\git\\data.csv\")\n",
    "df['Date'] = pd.to_datetime(df['Date'])\n",
    "df = df.set_index(df['Date']).sort_index()\n",
    "df = df[['Close']]\n",
    "df.head(5)"
   ]
  },
  {
   "cell_type": "code",
   "execution_count": 7,
   "id": "0e852992-4066-4f11-a98b-ff171f4bdc35",
   "metadata": {
    "tags": []
   },
   "outputs": [
    {
     "name": "stdout",
     "output_type": "stream",
     "text": [
      "410\n"
     ]
    },
    {
     "data": {
      "text/html": [
       "<div>\n",
       "<style scoped>\n",
       "    .dataframe tbody tr th:only-of-type {\n",
       "        vertical-align: middle;\n",
       "    }\n",
       "\n",
       "    .dataframe tbody tr th {\n",
       "        vertical-align: top;\n",
       "    }\n",
       "\n",
       "    .dataframe thead th {\n",
       "        text-align: right;\n",
       "    }\n",
       "</style>\n",
       "<table border=\"1\" class=\"dataframe\">\n",
       "  <thead>\n",
       "    <tr style=\"text-align: right;\">\n",
       "      <th></th>\n",
       "      <th>Close</th>\n",
       "      <th>Close_1</th>\n",
       "      <th>Close_2</th>\n",
       "      <th>Close_3</th>\n",
       "    </tr>\n",
       "    <tr>\n",
       "      <th>Date</th>\n",
       "      <th></th>\n",
       "      <th></th>\n",
       "      <th></th>\n",
       "      <th></th>\n",
       "    </tr>\n",
       "  </thead>\n",
       "  <tbody>\n",
       "    <tr>\n",
       "      <th>1990-01-01</th>\n",
       "      <td>330.799988</td>\n",
       "      <td>329.079987</td>\n",
       "      <td>331.890015</td>\n",
       "      <td>339.940002</td>\n",
       "    </tr>\n",
       "    <tr>\n",
       "      <th>1990-02-01</th>\n",
       "      <td>361.230011</td>\n",
       "      <td>331.890015</td>\n",
       "      <td>339.940002</td>\n",
       "      <td>330.799988</td>\n",
       "    </tr>\n",
       "    <tr>\n",
       "      <th>1990-03-01</th>\n",
       "      <td>358.019989</td>\n",
       "      <td>339.940002</td>\n",
       "      <td>330.799988</td>\n",
       "      <td>361.230011</td>\n",
       "    </tr>\n",
       "    <tr>\n",
       "      <th>1990-04-01</th>\n",
       "      <td>356.149994</td>\n",
       "      <td>330.799988</td>\n",
       "      <td>361.230011</td>\n",
       "      <td>358.019989</td>\n",
       "    </tr>\n",
       "    <tr>\n",
       "      <th>1990-05-01</th>\n",
       "      <td>322.559998</td>\n",
       "      <td>361.230011</td>\n",
       "      <td>358.019989</td>\n",
       "      <td>356.149994</td>\n",
       "    </tr>\n",
       "  </tbody>\n",
       "</table>\n",
       "</div>"
      ],
      "text/plain": [
       "                 Close     Close_1     Close_2     Close_3\n",
       "Date                                                      \n",
       "1990-01-01  330.799988  329.079987  331.890015  339.940002\n",
       "1990-02-01  361.230011  331.890015  339.940002  330.799988\n",
       "1990-03-01  358.019989  339.940002  330.799988  361.230011\n",
       "1990-04-01  356.149994  330.799988  361.230011  358.019989\n",
       "1990-05-01  322.559998  361.230011  358.019989  356.149994"
      ]
     },
     "execution_count": 7,
     "metadata": {},
     "output_type": "execute_result"
    }
   ],
   "source": [
    "df.sort_index(inplace=True)\n",
    "temp = df.copy(deep=True)\n",
    "temp['Close_1'] = df['Close']\n",
    "temp['Close_2'] = df['Close'].shift(-1)\n",
    "temp['Close_3'] = df['Close'].shift(-2)\n",
    "temp['Close'] = temp['Close'].shift(-3)\n",
    "temp.dropna(inplace=True)\n",
    "print(len(temp))\n",
    "temp.head(5)"
   ]
  },
  {
   "cell_type": "code",
   "execution_count": 8,
   "id": "0d31d8c0-d0b1-468f-91f9-f291ac1c1002",
   "metadata": {
    "tags": []
   },
   "outputs": [],
   "source": [
    "from sklearn.model_selection import train_test_split\n",
    "X = temp[['Close_1','Close_2','Close_3']]\n",
    "y = temp[['Close']]"
   ]
  },
  {
   "cell_type": "code",
   "execution_count": 20,
   "id": "680b104c-3e0b-47c7-9d21-4ed3f80b4cd7",
   "metadata": {
    "tags": []
   },
   "outputs": [],
   "source": [
    "# X_train, X_test, y_train, y_test = train_test_split(X, y, test_size=0.2, random_state=42)\n",
    "X_train = X[:320]\n",
    "y_train = y[:320]\n",
    "X_test = X[320:]\n",
    "y_test = y[320:]"
   ]
  },
  {
   "cell_type": "code",
   "execution_count": 21,
   "id": "2cf22e0f-3714-42ae-81a6-e5cad63bd907",
   "metadata": {
    "tags": []
   },
   "outputs": [
    {
     "name": "stderr",
     "output_type": "stream",
     "text": [
      "C:\\Users\\shami\\anaconda3\\Lib\\site-packages\\sklearn\\utils\\validation.py:1184: DataConversionWarning: A column-vector y was passed when a 1d array was expected. Please change the shape of y to (n_samples, ), for example using ravel().\n",
      "  y = column_or_1d(y, warn=True)\n",
      "C:\\Users\\shami\\anaconda3\\Lib\\site-packages\\sklearn\\svm\\_classes.py:32: FutureWarning: The default value of `dual` will change from `True` to `'auto'` in 1.5. Set the value of `dual` explicitly to suppress the warning.\n",
      "  warnings.warn(\n",
      "C:\\Users\\shami\\anaconda3\\Lib\\site-packages\\sklearn\\svm\\_base.py:1242: ConvergenceWarning: Liblinear failed to converge, increase the number of iterations.\n",
      "  warnings.warn(\n"
     ]
    }
   ],
   "source": [
    "model = LinearSVR(epsilon=0.0, tol=0.0001, C=1.0, max_iter=1000)\n",
    "model.fit(X_train, y_train)\n",
    "predictions = model.predict(X_test)"
   ]
  },
  {
   "cell_type": "code",
   "execution_count": 13,
   "id": "fad95e6d-1c25-45ac-b14c-72f68da28683",
   "metadata": {
    "tags": []
   },
   "outputs": [],
   "source": [
    "x = []\n",
    "for i in range(82):\n",
    "    x.append(i)"
   ]
  },
  {
   "cell_type": "code",
   "execution_count": 24,
   "id": "613658b0-75f6-4934-8abf-cde7a4be1d17",
   "metadata": {
    "tags": []
   },
   "outputs": [
    {
     "data": {
      "text/plain": [
       "<matplotlib.legend.Legend at 0x1d23bc8ec50>"
      ]
     },
     "execution_count": 24,
     "metadata": {},
     "output_type": "execute_result"
    },
    {
     "data": {
      "image/png": "[encoded data removed]",
      "text/plain": [
       "<Figure size 640x480 with 1 Axes>"
      ]
     },
     "metadata": {},
     "output_type": "display_data"
    }
   ],
   "source": [
    "plt.plot(temp.index[320:],y_test,label='original')\n",
    "plt.plot(temp.index[320:],predictions,label='SVR')\n",
    "plt.legend()"
   ]
  },
  {
   "cell_type": "code",
   "execution_count": 28,
   "id": "9be68e87-613c-48c6-88f3-867274ee94f1",
   "metadata": {
    "tags": []
   },
   "outputs": [
    {
     "name": "stdout",
     "output_type": "stream",
     "text": [
      "Mean Squared Error: 45977.855\n",
      "Symmetric Mean Absolute Percentage Error: 27.159\n",
      "Mean Absolute Percenatage Error:29.558\n",
      "R2-Score:0.934\n"
     ]
    }
   ],
   "source": [
    "from sklearn.metrics import mean_squared_error, r2_score\n",
    "def mean_absolute_percentage_error(y_true, y_pred): \n",
    "    return np.mean(np.abs((y_true - y_pred) / y_true)) * 100\n",
    "\n",
    "def smape_kun(y_true, y_pred):\n",
    "    return np.mean((np.abs(y_pred - y_true) * 200/ (np.abs(y_pred) + np.abs(y_true))))\n",
    "\n",
    "error = mean_squared_error(y_test, predictions)\n",
    "print('Mean Squared Error: %.3f' % error)\n",
    "error2 = smape_kun(y_test.values, predictions)\n",
    "print('Symmetric Mean Absolute Percentage Error: %.3f' % error2)\n",
    "error3=mean_absolute_percentage_error(y_test.values, predictions)\n",
    "print('Mean Absolute Percenatage Error:%.3f' %error3)\n",
    "R2Score= r2_score(y_test.values, predictions)\n",
    "print('R2-Score:%.3f'% R2Score)"
   ]
  },
  {
   "cell_type": "code",
   "execution_count": 29,
   "id": "a02ca5b6-54b8-4cd3-ae91-d163bf119a96",
   "metadata": {
    "tags": []
   },
   "outputs": [
    {
     "data": {
      "text/html": [
       "<div>\n",
       "<style scoped>\n",
       "    .dataframe tbody tr th:only-of-type {\n",
       "        vertical-align: middle;\n",
       "    }\n",
       "\n",
       "    .dataframe tbody tr th {\n",
       "        vertical-align: top;\n",
       "    }\n",
       "\n",
       "    .dataframe thead th {\n",
       "        text-align: right;\n",
       "    }\n",
       "</style>\n",
       "<table border=\"1\" class=\"dataframe\">\n",
       "  <thead>\n",
       "    <tr style=\"text-align: right;\">\n",
       "      <th></th>\n",
       "      <th>Timestamp</th>\n",
       "      <th>Predicted</th>\n",
       "    </tr>\n",
       "  </thead>\n",
       "  <tbody>\n",
       "    <tr>\n",
       "      <th>0</th>\n",
       "      <td>2016-09-01</td>\n",
       "      <td>2300.601904</td>\n",
       "    </tr>\n",
       "    <tr>\n",
       "      <th>1</th>\n",
       "      <td>2016-10-01</td>\n",
       "      <td>2338.318931</td>\n",
       "    </tr>\n",
       "    <tr>\n",
       "      <th>2</th>\n",
       "      <td>2016-11-01</td>\n",
       "      <td>2381.046413</td>\n",
       "    </tr>\n",
       "    <tr>\n",
       "      <th>3</th>\n",
       "      <td>2016-12-01</td>\n",
       "      <td>2470.896888</td>\n",
       "    </tr>\n",
       "    <tr>\n",
       "      <th>4</th>\n",
       "      <td>2017-01-01</td>\n",
       "      <td>2466.236252</td>\n",
       "    </tr>\n",
       "  </tbody>\n",
       "</table>\n",
       "</div>"
      ],
      "text/plain": [
       "   Timestamp    Predicted\n",
       "0 2016-09-01  2300.601904\n",
       "1 2016-10-01  2338.318931\n",
       "2 2016-11-01  2381.046413\n",
       "3 2016-12-01  2470.896888\n",
       "4 2017-01-01  2466.236252"
      ]
     },
     "execution_count": 29,
     "metadata": {},
     "output_type": "execute_result"
    }
   ],
   "source": [
    "temp_svr = pd.DataFrame({'Timestamp': temp[320:].index, 'Predicted': predictions})\n",
    "temp_svr.head(5)"
   ]
  },
  {
   "cell_type": "code",
   "execution_count": 36,
   "id": "7118aa28-8a19-4fa1-aecb-c8cc1d05d584",
   "metadata": {
    "tags": []
   },
   "outputs": [],
   "source": [
    "history = [predictions[-3],predictions[-2],predictions[-1]]\n",
    "new = []\n",
    "for i in range(36):\n",
    "    pred = model.predict([history])[0]\n",
    "    history.append(pred)\n",
    "    history.pop(0)\n",
    "    new.append(pred)"
   ]
  },
  {
   "cell_type": "code",
   "execution_count": 38,
   "id": "ba4c2c27-1e6c-4e49-b726-05d3d3afcfc0",
   "metadata": {
    "tags": []
   },
   "outputs": [
    {
     "data": {
      "text/html": [
       "<div>\n",
       "<style scoped>\n",
       "    .dataframe tbody tr th:only-of-type {\n",
       "        vertical-align: middle;\n",
       "    }\n",
       "\n",
       "    .dataframe tbody tr th {\n",
       "        vertical-align: top;\n",
       "    }\n",
       "\n",
       "    .dataframe thead th {\n",
       "        text-align: right;\n",
       "    }\n",
       "</style>\n",
       "<table border=\"1\" class=\"dataframe\">\n",
       "  <thead>\n",
       "    <tr style=\"text-align: right;\">\n",
       "      <th></th>\n",
       "      <th>Timestamp</th>\n",
       "      <th>Predicted</th>\n",
       "    </tr>\n",
       "  </thead>\n",
       "  <tbody>\n",
       "    <tr>\n",
       "      <th>31</th>\n",
       "      <td>2027-01-01</td>\n",
       "      <td>21380.152049</td>\n",
       "    </tr>\n",
       "    <tr>\n",
       "      <th>32</th>\n",
       "      <td>2027-02-01</td>\n",
       "      <td>22338.888863</td>\n",
       "    </tr>\n",
       "    <tr>\n",
       "      <th>33</th>\n",
       "      <td>2027-03-01</td>\n",
       "      <td>23340.608602</td>\n",
       "    </tr>\n",
       "    <tr>\n",
       "      <th>34</th>\n",
       "      <td>2027-04-01</td>\n",
       "      <td>24387.238312</td>\n",
       "    </tr>\n",
       "    <tr>\n",
       "      <th>35</th>\n",
       "      <td>2027-05-01</td>\n",
       "      <td>25480.791438</td>\n",
       "    </tr>\n",
       "  </tbody>\n",
       "</table>\n",
       "</div>"
      ],
      "text/plain": [
       "     Timestamp     Predicted\n",
       "31  2027-01-01  21380.152049\n",
       "32  2027-02-01  22338.888863\n",
       "33  2027-03-01  23340.608602\n",
       "34  2027-04-01  24387.238312\n",
       "35  2027-05-01  25480.791438"
      ]
     },
     "execution_count": 38,
     "metadata": {},
     "output_type": "execute_result"
    }
   ],
   "source": [
    "from datetime import datetime, timedelta\n",
    "from dateutil.relativedelta import relativedelta\n",
    "\n",
    "start_date = datetime(2024, 6, 1)\n",
    "end_date = start_date + relativedelta(months=+36)\n",
    "monthly_dates = [start_date + relativedelta(months=+i) for i in range(0, 36)]\n",
    "final = []\n",
    "for date in monthly_dates:\n",
    "    final.append(date.strftime('%Y-%m-%d'))\n",
    "    \n",
    "further_svr = pd.DataFrame({'Timestamp': final, 'Predicted': new})\n",
    "further_svr.tail(5)"
   ]
  },
  {
   "cell_type": "code",
   "execution_count": 40,
   "id": "b8c2869c-7a55-445a-94b3-7a3df3853187",
   "metadata": {
    "tags": []
   },
   "outputs": [],
   "source": [
    "import sqlite3\n",
    "result = pd.concat([temp_svr,further_svr])\n",
    "result['Timestamp'] = pd.to_datetime(result['Timestamp'])\n",
    "conn = sqlite3.connect(r'C:\\Users\\shami\\OneDrive\\Desktop\\university\\Data_Mining_Lab\\project\\git\\data.db')\n",
    "result.to_sql('svr_Prediction', conn, if_exists='replace', index=False)\n",
    "conn.commit()\n",
    "conn.close()"
   ]
  },
  {
   "cell_type": "code",
   "execution_count": null,
   "id": "0dd014c4-ef46-4330-a2bd-3686fcc36490",
   "metadata": {},
   "outputs": [],
   "source": [
    "with open('svr.pkl', 'wb') as file:\n",
    "    pickle.dump(svr, file)"
   ]
  },
  {
   "cell_type": "code",
   "execution_count": 41,
   "id": "2b67b129-dc37-4379-9c0b-5e52688aa520",
   "metadata": {
    "tags": []
   },
   "outputs": [
    {
     "name": "stdout",
     "output_type": "stream",
     "text": [
      "Tables in the database:\n",
      "Training\n",
      "Testing\n",
      "Arima_Prediction\n",
      "Sarima_Prediction\n",
      "ANN_Prediction\n",
      "LSTM_Prediction\n",
      "ETS_Prediction\n",
      "Prophet_Prediction\n",
      "svr_Prediction\n"
     ]
    }
   ],
   "source": [
    "import sqlite3\n",
    "\n",
    "# Connect to the SQLite database\n",
    "conn = sqlite3.connect(r'C:\\Users\\shami\\OneDrive\\Desktop\\university\\Data_Mining_Lab\\project\\git\\data.db')\n",
    "\n",
    "# Create a cursor object to execute SQL commands\n",
    "cursor = conn.cursor()\n",
    "\n",
    "# Execute a query to get the names of all tables\n",
    "cursor.execute(\"SELECT name FROM sqlite_master WHERE type='table';\")\n",
    "\n",
    "# Fetch all rows from the result set\n",
    "tables = cursor.fetchall()\n",
    "\n",
    "# Extract table names from the result set\n",
    "table_names = [table[0] for table in tables]\n",
    "\n",
    "# Print the names of all tables\n",
    "print(\"Tables in the database:\")\n",
    "for table_name in table_names:\n",
    "    print(table_name)\n",
    "\n",
    "# Close the cursor and connection\n",
    "cursor.close()\n",
    "conn.close()"
   ]
  },
  {
   "cell_type": "code",
   "execution_count": 42,
   "id": "3ac8a12c-48a5-4cb2-81e4-47edc65051aa",
   "metadata": {},
   "outputs": [
    {
     "data": {
      "text/plain": [
       "[<matplotlib.lines.Line2D at 0x1d23bf0d2d0>]"
      ]
     },
     "execution_count": 42,
     "metadata": {},
     "output_type": "execute_result"
    },
    {
     "data": {
      "image/png": "[encoded data removed]",
      "text/plain": [
       "<Figure size 640x480 with 1 Axes>"
      ]
     },
     "metadata": {},
     "output_type": "display_data"
    }
   ],
   "source": [
    "plt.plot(result['Timestamp'],result['Predicted'])"
   ]
  },
  {
   "cell_type": "code",
   "execution_count": null,
   "id": "cd4f40a1-99ce-4f5c-923e-5bb9654fa9f2",
   "metadata": {},
   "outputs": [],
   "source": []
  }
 ],
 "metadata": {
  "kernelspec": {
   "display_name": "Python 3 (ipykernel)",
   "language": "python",
   "name": "python3"
  },
  "language_info": {
   "codemirror_mode": {
    "name": "ipython",
    "version": 3
   },
   "file_extension": ".py",
   "mimetype": "text/x-python",
   "name": "python",
   "nbconvert_exporter": "python",
   "pygments_lexer": "ipython3",
   "version": "3.11.5"
  }
 },
 "nbformat": 4,
 "nbformat_minor": 5
}
