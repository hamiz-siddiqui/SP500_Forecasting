{
 "cells": [
  {
   "cell_type": "markdown",
   "metadata": {},
   "source": [
    "# Muhammad Shamil Umar"
   ]
  },
  {
   "cell_type": "code",
   "execution_count": 20,
   "metadata": {},
   "outputs": [],
   "source": [
    "import os\n",
    "import pandas as pd\n",
    "import numpy as np\n",
    "from datetime import datetime\n",
    "import matplotlib.pyplot as plt\n",
    "import seaborn as sns\n",
    "from sklearn.preprocessing import MinMaxScaler\n",
    "from statsmodels.tsa.stattools import adfuller\n",
    "import statsmodels.api as sm\n",
    "from statsmodels.tsa.arima.model import ARIMA"
   ]
  },
  {
   "cell_type": "code",
   "execution_count": 21,
   "metadata": {},
   "outputs": [
    {
     "data": {
      "text/html": [
       "<div>\n",
       "<style scoped>\n",
       "    .dataframe tbody tr th:only-of-type {\n",
       "        vertical-align: middle;\n",
       "    }\n",
       "\n",
       "    .dataframe tbody tr th {\n",
       "        vertical-align: top;\n",
       "    }\n",
       "\n",
       "    .dataframe thead th {\n",
       "        text-align: right;\n",
       "    }\n",
       "</style>\n",
       "<table border=\"1\" class=\"dataframe\">\n",
       "  <thead>\n",
       "    <tr style=\"text-align: right;\">\n",
       "      <th></th>\n",
       "      <th>Date</th>\n",
       "      <th>Open</th>\n",
       "      <th>High</th>\n",
       "      <th>Low</th>\n",
       "      <th>Close</th>\n",
       "      <th>Adj Close</th>\n",
       "      <th>Volume</th>\n",
       "    </tr>\n",
       "  </thead>\n",
       "  <tbody>\n",
       "    <tr>\n",
       "      <th>0</th>\n",
       "      <td>1927-12-30</td>\n",
       "      <td>17.660000</td>\n",
       "      <td>17.660000</td>\n",
       "      <td>17.660000</td>\n",
       "      <td>17.660000</td>\n",
       "      <td>17.660000</td>\n",
       "      <td>0</td>\n",
       "    </tr>\n",
       "    <tr>\n",
       "      <th>1</th>\n",
       "      <td>1928-01-03</td>\n",
       "      <td>17.760000</td>\n",
       "      <td>17.760000</td>\n",
       "      <td>17.760000</td>\n",
       "      <td>17.760000</td>\n",
       "      <td>17.760000</td>\n",
       "      <td>0</td>\n",
       "    </tr>\n",
       "    <tr>\n",
       "      <th>2</th>\n",
       "      <td>1928-01-04</td>\n",
       "      <td>17.719999</td>\n",
       "      <td>17.719999</td>\n",
       "      <td>17.719999</td>\n",
       "      <td>17.719999</td>\n",
       "      <td>17.719999</td>\n",
       "      <td>0</td>\n",
       "    </tr>\n",
       "  </tbody>\n",
       "</table>\n",
       "</div>"
      ],
      "text/plain": [
       "         Date       Open       High        Low      Close  Adj Close  Volume\n",
       "0  1927-12-30  17.660000  17.660000  17.660000  17.660000  17.660000       0\n",
       "1  1928-01-03  17.760000  17.760000  17.760000  17.760000  17.760000       0\n",
       "2  1928-01-04  17.719999  17.719999  17.719999  17.719999  17.719999       0"
      ]
     },
     "execution_count": 21,
     "metadata": {},
     "output_type": "execute_result"
    }
   ],
   "source": [
    "df = pd.read_csv(\"SPX.csv\")\n",
    "df.head(3)"
   ]
  },
  {
   "cell_type": "code",
   "execution_count": 22,
   "metadata": {},
   "outputs": [
    {
     "name": "stdout",
     "output_type": "stream",
     "text": [
      "(23323, 7)\n"
     ]
    },
    {
     "data": {
      "text/html": [
       "<div>\n",
       "<style scoped>\n",
       "    .dataframe tbody tr th:only-of-type {\n",
       "        vertical-align: middle;\n",
       "    }\n",
       "\n",
       "    .dataframe tbody tr th {\n",
       "        vertical-align: top;\n",
       "    }\n",
       "\n",
       "    .dataframe thead th {\n",
       "        text-align: right;\n",
       "    }\n",
       "</style>\n",
       "<table border=\"1\" class=\"dataframe\">\n",
       "  <thead>\n",
       "    <tr style=\"text-align: right;\">\n",
       "      <th></th>\n",
       "      <th>Date</th>\n",
       "      <th>Open</th>\n",
       "      <th>High</th>\n",
       "      <th>Low</th>\n",
       "      <th>Close</th>\n",
       "      <th>Adj Close</th>\n",
       "      <th>Volume</th>\n",
       "    </tr>\n",
       "    <tr>\n",
       "      <th>Date</th>\n",
       "      <th></th>\n",
       "      <th></th>\n",
       "      <th></th>\n",
       "      <th></th>\n",
       "      <th></th>\n",
       "      <th></th>\n",
       "      <th></th>\n",
       "    </tr>\n",
       "  </thead>\n",
       "  <tbody>\n",
       "    <tr>\n",
       "      <th>1927-12-30</th>\n",
       "      <td>1927-12-30</td>\n",
       "      <td>17.660000</td>\n",
       "      <td>17.660000</td>\n",
       "      <td>17.660000</td>\n",
       "      <td>17.660000</td>\n",
       "      <td>17.660000</td>\n",
       "      <td>0</td>\n",
       "    </tr>\n",
       "    <tr>\n",
       "      <th>1928-01-03</th>\n",
       "      <td>1928-01-03</td>\n",
       "      <td>17.760000</td>\n",
       "      <td>17.760000</td>\n",
       "      <td>17.760000</td>\n",
       "      <td>17.760000</td>\n",
       "      <td>17.760000</td>\n",
       "      <td>0</td>\n",
       "    </tr>\n",
       "    <tr>\n",
       "      <th>1928-01-04</th>\n",
       "      <td>1928-01-04</td>\n",
       "      <td>17.719999</td>\n",
       "      <td>17.719999</td>\n",
       "      <td>17.719999</td>\n",
       "      <td>17.719999</td>\n",
       "      <td>17.719999</td>\n",
       "      <td>0</td>\n",
       "    </tr>\n",
       "  </tbody>\n",
       "</table>\n",
       "</div>"
      ],
      "text/plain": [
       "                 Date       Open       High        Low      Close  Adj Close   \n",
       "Date                                                                           \n",
       "1927-12-30 1927-12-30  17.660000  17.660000  17.660000  17.660000  17.660000  \\\n",
       "1928-01-03 1928-01-03  17.760000  17.760000  17.760000  17.760000  17.760000   \n",
       "1928-01-04 1928-01-04  17.719999  17.719999  17.719999  17.719999  17.719999   \n",
       "\n",
       "            Volume  \n",
       "Date                \n",
       "1927-12-30       0  \n",
       "1928-01-03       0  \n",
       "1928-01-04       0  "
      ]
     },
     "execution_count": 22,
     "metadata": {},
     "output_type": "execute_result"
    }
   ],
   "source": [
    "df['Date'] = pd.to_datetime(df['Date'])\n",
    "df = df.set_index(df['Date']).sort_index()\n",
    "print(df.shape)\n",
    "df.head(3)"
   ]
  },
  {
   "cell_type": "code",
   "execution_count": 23,
   "metadata": {},
   "outputs": [
    {
     "name": "stdout",
     "output_type": "stream",
     "text": [
      "<class 'pandas.core.frame.DataFrame'>\n",
      "DatetimeIndex: 23323 entries, 1927-12-30 to 2020-11-04\n",
      "Data columns (total 7 columns):\n",
      " #   Column     Non-Null Count  Dtype         \n",
      "---  ------     --------------  -----         \n",
      " 0   Date       23323 non-null  datetime64[ns]\n",
      " 1   Open       23323 non-null  float64       \n",
      " 2   High       23323 non-null  float64       \n",
      " 3   Low        23323 non-null  float64       \n",
      " 4   Close      23323 non-null  float64       \n",
      " 5   Adj Close  23323 non-null  float64       \n",
      " 6   Volume     23323 non-null  int64         \n",
      "dtypes: datetime64[ns](1), float64(5), int64(1)\n",
      "memory usage: 1.4 MB\n"
     ]
    }
   ],
   "source": [
    "df.info()"
   ]
  },
  {
   "cell_type": "markdown",
   "metadata": {},
   "source": [
    "We will be working on forcasting closing price of S&P stocks"
   ]
  },
  {
   "cell_type": "code",
   "execution_count": 24,
   "metadata": {},
   "outputs": [
    {
     "data": {
      "text/plain": [
       "Text(0.5, 1.0, 'Daily Closing against time')"
      ]
     },
     "execution_count": 24,
     "metadata": {},
     "output_type": "execute_result"
    },
    {
     "data": {
      "image/png": "[encoded data removed]",
      "text/plain": [
       "<Figure size 1080x360 with 1 Axes>"
      ]
     },
     "metadata": {
      "needs_background": "light"
     },
     "output_type": "display_data"
    }
   ],
   "source": [
    "fig = plt.figure(figsize=(15, 5))\n",
    "plt.plot(df.index.values,df['Close'].to_numpy(),color='red')\n",
    "plt.xlabel('Timestamp')\n",
    "plt.ylabel('Closing price')\n",
    "plt.title('Daily Closing against time')"
   ]
  },
  {
   "cell_type": "code",
   "execution_count": 25,
   "metadata": {},
   "outputs": [],
   "source": [
    "monthly = df.resample('M').mean()"
   ]
  },
  {
   "cell_type": "code",
   "execution_count": 26,
   "metadata": {},
   "outputs": [
    {
     "data": {
      "text/html": [
       "<div>\n",
       "<style scoped>\n",
       "    .dataframe tbody tr th:only-of-type {\n",
       "        vertical-align: middle;\n",
       "    }\n",
       "\n",
       "    .dataframe tbody tr th {\n",
       "        vertical-align: top;\n",
       "    }\n",
       "\n",
       "    .dataframe thead th {\n",
       "        text-align: right;\n",
       "    }\n",
       "</style>\n",
       "<table border=\"1\" class=\"dataframe\">\n",
       "  <thead>\n",
       "    <tr style=\"text-align: right;\">\n",
       "      <th></th>\n",
       "      <th>Open</th>\n",
       "      <th>High</th>\n",
       "      <th>Low</th>\n",
       "      <th>Close</th>\n",
       "      <th>Adj Close</th>\n",
       "      <th>Volume</th>\n",
       "    </tr>\n",
       "    <tr>\n",
       "      <th>Date</th>\n",
       "      <th></th>\n",
       "      <th></th>\n",
       "      <th></th>\n",
       "      <th></th>\n",
       "      <th></th>\n",
       "      <th></th>\n",
       "    </tr>\n",
       "  </thead>\n",
       "  <tbody>\n",
       "    <tr>\n",
       "      <th>1927-12-31</th>\n",
       "      <td>17.660000</td>\n",
       "      <td>17.660000</td>\n",
       "      <td>17.660000</td>\n",
       "      <td>17.660000</td>\n",
       "      <td>17.660000</td>\n",
       "      <td>0.0</td>\n",
       "    </tr>\n",
       "    <tr>\n",
       "      <th>1928-01-31</th>\n",
       "      <td>17.520000</td>\n",
       "      <td>17.520000</td>\n",
       "      <td>17.520000</td>\n",
       "      <td>17.520000</td>\n",
       "      <td>17.520000</td>\n",
       "      <td>0.0</td>\n",
       "    </tr>\n",
       "    <tr>\n",
       "      <th>1928-02-29</th>\n",
       "      <td>17.324211</td>\n",
       "      <td>17.324211</td>\n",
       "      <td>17.324211</td>\n",
       "      <td>17.324211</td>\n",
       "      <td>17.324211</td>\n",
       "      <td>0.0</td>\n",
       "    </tr>\n",
       "    <tr>\n",
       "      <th>1928-03-31</th>\n",
       "      <td>18.233182</td>\n",
       "      <td>18.233182</td>\n",
       "      <td>18.233182</td>\n",
       "      <td>18.233182</td>\n",
       "      <td>18.233182</td>\n",
       "      <td>0.0</td>\n",
       "    </tr>\n",
       "    <tr>\n",
       "      <th>1928-04-30</th>\n",
       "      <td>19.371000</td>\n",
       "      <td>19.371000</td>\n",
       "      <td>19.371000</td>\n",
       "      <td>19.371000</td>\n",
       "      <td>19.371000</td>\n",
       "      <td>0.0</td>\n",
       "    </tr>\n",
       "  </tbody>\n",
       "</table>\n",
       "</div>"
      ],
      "text/plain": [
       "                 Open       High        Low      Close  Adj Close  Volume\n",
       "Date                                                                     \n",
       "1927-12-31  17.660000  17.660000  17.660000  17.660000  17.660000     0.0\n",
       "1928-01-31  17.520000  17.520000  17.520000  17.520000  17.520000     0.0\n",
       "1928-02-29  17.324211  17.324211  17.324211  17.324211  17.324211     0.0\n",
       "1928-03-31  18.233182  18.233182  18.233182  18.233182  18.233182     0.0\n",
       "1928-04-30  19.371000  19.371000  19.371000  19.371000  19.371000     0.0"
      ]
     },
     "execution_count": 26,
     "metadata": {},
     "output_type": "execute_result"
    }
   ],
   "source": [
    "monthly = monthly.drop(['Date'],axis=1)\n",
    "monthly.head(5)"
   ]
  },
  {
   "cell_type": "code",
   "execution_count": 29,
   "metadata": {},
   "outputs": [
    {
     "data": {
      "text/plain": [
       "Text(0.5, 1.0, 'Monthly Closing against time')"
      ]
     },
     "execution_count": 29,
     "metadata": {},
     "output_type": "execute_result"
    },
    {
     "data": {
      "image/png": "[encoded data removed]",
      "text/plain": [
       "<Figure size 1080x360 with 1 Axes>"
      ]
     },
     "metadata": {
      "needs_background": "light"
     },
     "output_type": "display_data"
    }
   ],
   "source": [
    "fig = plt.figure(figsize=(15, 5))\n",
    "plt.plot(monthly.index.values,monthly['Close'].values,color='red')\n",
    "plt.xlabel('Timestamp')\n",
    "plt.ylabel('Closing price')\n",
    "plt.title('Monthly Closing against time')"
   ]
  },
  {
   "cell_type": "markdown",
   "metadata": {},
   "source": [
    "### Adding into db for easy retrieval"
   ]
  },
  {
   "cell_type": "code",
   "execution_count": 37,
   "metadata": {},
   "outputs": [
    {
     "data": {
      "text/plain": [
       "(1116,)"
      ]
     },
     "execution_count": 37,
     "metadata": {},
     "output_type": "execute_result"
    }
   ],
   "source": [
    "monthly['Close'].shape"
   ]
  },
  {
   "cell_type": "code",
   "execution_count": 43,
   "metadata": {},
   "outputs": [
    {
     "data": {
      "text/plain": [
       "[('1927-12-31 00:00:00.000000', 17.66),\n",
       " ('1928-01-31 00:00:00.000000', 17.519999761904764),\n",
       " ('1928-02-29 00:00:00.000000', 17.324210842105263),\n",
       " ('1928-03-31 00:00:00.000000', 18.233181772727274),\n",
       " ('1928-04-30 00:00:00.000000', 19.37099995),\n",
       " ('1928-05-31 00:00:00.000000', 20.004091),\n",
       " ('1928-06-30 00:00:00.000000', 18.985238),\n",
       " ('1928-07-31 00:00:00.000000', 19.155714333333332),\n",
       " ('1928-08-31 00:00:00.000000', 19.793478304347826),\n",
       " ('1928-09-30 00:00:00.000000', 21.173157684210526)]"
      ]
     },
     "execution_count": 43,
     "metadata": {},
     "output_type": "execute_result"
    }
   ],
   "source": [
    "import sqlite3\n",
    "from sqlalchemy import create_engine\n",
    "to_store = pd.DataFrame(data={'Date': monthly.index, 'Close': monthly['Close']})\n",
    "engine = create_engine('sqlite:///spindex.db')\n",
    "to_store.to_sql('close_price', engine, if_exists='replace', index=False)\n",
    "engine.dispose()\n",
    "connect = sqlite3.connect('spindex.db')\n",
    "cursor = connect.cursor()\n",
    "result = cursor.execute('Select * from close_price limit 10')\n",
    "result.fetchall()"
   ]
  },
  {
   "cell_type": "markdown",
   "metadata": {
    "tags": []
   },
   "source": [
    "# SVR"
   ]
  },
  {
   "cell_type": "code",
   "execution_count": 1,
   "metadata": {},
   "outputs": [],
   "source": [
    "import pandas as pd\n",
    "import numpy as np\n",
    "from sqlalchemy import create_engine"
   ]
  },
  {
   "cell_type": "code",
   "execution_count": 2,
   "metadata": {},
   "outputs": [
    {
     "data": {
      "text/html": [
       "<div>\n",
       "<style scoped>\n",
       "    .dataframe tbody tr th:only-of-type {\n",
       "        vertical-align: middle;\n",
       "    }\n",
       "\n",
       "    .dataframe tbody tr th {\n",
       "        vertical-align: top;\n",
       "    }\n",
       "\n",
       "    .dataframe thead th {\n",
       "        text-align: right;\n",
       "    }\n",
       "</style>\n",
       "<table border=\"1\" class=\"dataframe\">\n",
       "  <thead>\n",
       "    <tr style=\"text-align: right;\">\n",
       "      <th></th>\n",
       "      <th>Date</th>\n",
       "      <th>Open</th>\n",
       "      <th>High</th>\n",
       "      <th>Low</th>\n",
       "      <th>Close</th>\n",
       "      <th>Adj Close</th>\n",
       "      <th>Volume</th>\n",
       "    </tr>\n",
       "  </thead>\n",
       "  <tbody>\n",
       "    <tr>\n",
       "      <th>0</th>\n",
       "      <td>1990-01-01</td>\n",
       "      <td>353.399994</td>\n",
       "      <td>360.589996</td>\n",
       "      <td>319.829987</td>\n",
       "      <td>329.079987</td>\n",
       "      <td>329.079987</td>\n",
       "      <td>3793250000</td>\n",
       "    </tr>\n",
       "    <tr>\n",
       "      <th>1</th>\n",
       "      <td>1990-02-01</td>\n",
       "      <td>329.079987</td>\n",
       "      <td>336.089996</td>\n",
       "      <td>322.100006</td>\n",
       "      <td>331.890015</td>\n",
       "      <td>331.890015</td>\n",
       "      <td>2961970000</td>\n",
       "    </tr>\n",
       "    <tr>\n",
       "      <th>2</th>\n",
       "      <td>1990-03-01</td>\n",
       "      <td>331.890015</td>\n",
       "      <td>344.489990</td>\n",
       "      <td>331.079987</td>\n",
       "      <td>339.940002</td>\n",
       "      <td>339.940002</td>\n",
       "      <td>3283280000</td>\n",
       "    </tr>\n",
       "    <tr>\n",
       "      <th>3</th>\n",
       "      <td>1990-04-01</td>\n",
       "      <td>339.940002</td>\n",
       "      <td>347.299988</td>\n",
       "      <td>327.760010</td>\n",
       "      <td>330.799988</td>\n",
       "      <td>330.799988</td>\n",
       "      <td>2801220000</td>\n",
       "    </tr>\n",
       "    <tr>\n",
       "      <th>4</th>\n",
       "      <td>1990-05-01</td>\n",
       "      <td>330.799988</td>\n",
       "      <td>362.260010</td>\n",
       "      <td>330.799988</td>\n",
       "      <td>361.230011</td>\n",
       "      <td>361.230011</td>\n",
       "      <td>3596680000</td>\n",
       "    </tr>\n",
       "  </tbody>\n",
       "</table>\n",
       "</div>"
      ],
      "text/plain": [
       "        Date        Open        High         Low       Close   Adj Close   \n",
       "0 1990-01-01  353.399994  360.589996  319.829987  329.079987  329.079987  \\\n",
       "1 1990-02-01  329.079987  336.089996  322.100006  331.890015  331.890015   \n",
       "2 1990-03-01  331.890015  344.489990  331.079987  339.940002  339.940002   \n",
       "3 1990-04-01  339.940002  347.299988  327.760010  330.799988  330.799988   \n",
       "4 1990-05-01  330.799988  362.260010  330.799988  361.230011  361.230011   \n",
       "\n",
       "       Volume  \n",
       "0  3793250000  \n",
       "1  2961970000  \n",
       "2  3283280000  \n",
       "3  2801220000  \n",
       "4  3596680000  "
      ]
     },
     "execution_count": 2,
     "metadata": {},
     "output_type": "execute_result"
    }
   ],
   "source": [
    "df = pd.read_csv('data.csv')\n",
    "df['Date'] = pd.to_datetime(df['Date'])\n",
    "df.head()"
   ]
  },
  {
   "cell_type": "code",
   "execution_count": 3,
   "metadata": {},
   "outputs": [],
   "source": [
    "svr_data = df[['Date', 'Close']]"
   ]
  },
  {
   "cell_type": "code",
   "execution_count": 4,
   "metadata": {},
   "outputs": [
    {
     "data": {
      "text/html": [
       "<div>\n",
       "<style scoped>\n",
       "    .dataframe tbody tr th:only-of-type {\n",
       "        vertical-align: middle;\n",
       "    }\n",
       "\n",
       "    .dataframe tbody tr th {\n",
       "        vertical-align: top;\n",
       "    }\n",
       "\n",
       "    .dataframe thead th {\n",
       "        text-align: right;\n",
       "    }\n",
       "</style>\n",
       "<table border=\"1\" class=\"dataframe\">\n",
       "  <thead>\n",
       "    <tr style=\"text-align: right;\">\n",
       "      <th></th>\n",
       "      <th>Date</th>\n",
       "      <th>Close</th>\n",
       "    </tr>\n",
       "  </thead>\n",
       "  <tbody>\n",
       "    <tr>\n",
       "      <th>0</th>\n",
       "      <td>1990-01-01</td>\n",
       "      <td>329.079987</td>\n",
       "    </tr>\n",
       "    <tr>\n",
       "      <th>1</th>\n",
       "      <td>1990-02-01</td>\n",
       "      <td>331.890015</td>\n",
       "    </tr>\n",
       "    <tr>\n",
       "      <th>2</th>\n",
       "      <td>1990-03-01</td>\n",
       "      <td>339.940002</td>\n",
       "    </tr>\n",
       "    <tr>\n",
       "      <th>3</th>\n",
       "      <td>1990-04-01</td>\n",
       "      <td>330.799988</td>\n",
       "    </tr>\n",
       "    <tr>\n",
       "      <th>4</th>\n",
       "      <td>1990-05-01</td>\n",
       "      <td>361.230011</td>\n",
       "    </tr>\n",
       "  </tbody>\n",
       "</table>\n",
       "</div>"
      ],
      "text/plain": [
       "        Date       Close\n",
       "0 1990-01-01  329.079987\n",
       "1 1990-02-01  331.890015\n",
       "2 1990-03-01  339.940002\n",
       "3 1990-04-01  330.799988\n",
       "4 1990-05-01  361.230011"
      ]
     },
     "execution_count": 4,
     "metadata": {},
     "output_type": "execute_result"
    }
   ],
   "source": [
    "svr_data.head()"
   ]
  },
  {
   "cell_type": "code",
   "execution_count": 5,
   "metadata": {
    "scrolled": true,
    "tags": []
   },
   "outputs": [
    {
     "data": {
      "text/html": [
       "<div>\n",
       "<style scoped>\n",
       "    .dataframe tbody tr th:only-of-type {\n",
       "        vertical-align: middle;\n",
       "    }\n",
       "\n",
       "    .dataframe tbody tr th {\n",
       "        vertical-align: top;\n",
       "    }\n",
       "\n",
       "    .dataframe thead th {\n",
       "        text-align: right;\n",
       "    }\n",
       "</style>\n",
       "<table border=\"1\" class=\"dataframe\">\n",
       "  <thead>\n",
       "    <tr style=\"text-align: right;\">\n",
       "      <th></th>\n",
       "      <th>Close</th>\n",
       "    </tr>\n",
       "    <tr>\n",
       "      <th>Date</th>\n",
       "      <th></th>\n",
       "    </tr>\n",
       "  </thead>\n",
       "  <tbody>\n",
       "    <tr>\n",
       "      <th>1990-03-01</th>\n",
       "      <td>5.239960</td>\n",
       "    </tr>\n",
       "    <tr>\n",
       "      <th>1990-04-01</th>\n",
       "      <td>-17.190002</td>\n",
       "    </tr>\n",
       "    <tr>\n",
       "      <th>1990-05-01</th>\n",
       "      <td>39.570038</td>\n",
       "    </tr>\n",
       "    <tr>\n",
       "      <th>1990-06-01</th>\n",
       "      <td>-33.640045</td>\n",
       "    </tr>\n",
       "    <tr>\n",
       "      <th>1990-07-01</th>\n",
       "      <td>1.340027</td>\n",
       "    </tr>\n",
       "  </tbody>\n",
       "</table>\n",
       "</div>"
      ],
      "text/plain": [
       "                Close\n",
       "Date                 \n",
       "1990-03-01   5.239960\n",
       "1990-04-01 -17.190002\n",
       "1990-05-01  39.570038\n",
       "1990-06-01 -33.640045\n",
       "1990-07-01   1.340027"
      ]
     },
     "execution_count": 5,
     "metadata": {},
     "output_type": "execute_result"
    }
   ],
   "source": [
    "svr_data = df.copy(deep=True)\n",
    "svr_data.set_index('Date', inplace=True)\n",
    "svr_data = svr_data[['Close']]\n",
    "svr_data = svr_data.diff().diff()\n",
    "svr_data.dropna(inplace=True)\n",
    "svr_data.head()"
   ]
  },
  {
   "cell_type": "code",
   "execution_count": 134,
   "metadata": {},
   "outputs": [
    {
     "name": "stdout",
     "output_type": "stream",
     "text": [
      "Outer Cross-Validation Scores: [-1763.57848542 -1451.47785042 -1528.75768926 -1697.8580694\n",
      " -1656.30384201]\n",
      "Average Outer Cross-Validation Score: 1619.595187298689\n",
      "The evaluations are as follows\n",
      "Mean Squared Error: 4965373.668902173\n",
      "Mean Absolute Error: 1846.3290477934338\n",
      "R2 Score: -2.1902064992795607\n"
     ]
    }
   ],
   "source": [
    "from sklearn.svm import LinearSVR\n",
    "from sklearn.model_selection import train_test_split, GridSearchCV, KFold, cross_val_score\n",
    "from sklearn.metrics import mean_squared_error, r2_score, mean_absolute_error\n",
    "from warnings import filterwarnings\n",
    "filterwarnings('ignore')\n",
    "svr = LinearSVR()\n",
    "X = svr_data['Date'].values.astype(np.float32)\n",
    "X = X.reshape(-1, 1)\n",
    "y = svr_data['Close'].values\n",
    "folds = KFold(n_splits=5, shuffle=True, random_state=42)\n",
    "parameters = {'C':[1, 10], 'max_iter':[1000, 20000]} #The parameters to tune for this model. \n",
    "X_train, X_test, y_train, y_test = train_test_split(X, y, test_size=0.05, random_state=42)\n",
    "svr_tuned = GridSearchCV(svr, parameters)\n",
    "svr_tuned.fit(X_train, y_train)\n",
    "kfscore = cross_val_score(svr_tuned, X_train, y_train, cv=folds, scoring='neg_mean_absolute_error')\n",
    "print(\"Outer Cross-Validation Scores:\", kfscore)\n",
    "print(\"Average Outer Cross-Validation Score:\", np.abs(np.mean(kfscore)))\n",
    "y_pred = svr_tuned.predict(X_test)\n",
    "print(f'The evaluations are as follows\\nMean Squared Error: {mean_squared_error(y_test, y_pred)}\\nMean Absolute Error: {mean_absolute_error(y_test, y_pred)}\\nR2 Score: {r2_score(y_test, y_pred)}')"
   ]
  },
  {
   "cell_type": "code",
   "execution_count": 135,
   "metadata": {},
   "outputs": [],
   "source": [
    "to_save = pd.DataFrame({'Date':pd.to_datetime(X_test.reshape(-1,)), 'Actual':y_test, 'Predicted':y_pred})\n",
    "to_save.to_csv('svr.csv')\n",
    "import pickle\n",
    "with open('svr.pkl', 'wb') as file:\n",
    "    pickle.dump(svr, file)"
   ]
  },
  {
   "cell_type": "markdown",
   "metadata": {},
   "source": [
    "# ETS"
   ]
  },
  {
   "cell_type": "code",
   "execution_count": 136,
   "metadata": {},
   "outputs": [],
   "source": [
    "import pandas as pd\n",
    "import numpy as np\n",
    "from sqlalchemy import create_engine"
   ]
  },
  {
   "cell_type": "code",
   "execution_count": 137,
   "metadata": {},
   "outputs": [
    {
     "data": {
      "text/html": [
       "<div>\n",
       "<style scoped>\n",
       "    .dataframe tbody tr th:only-of-type {\n",
       "        vertical-align: middle;\n",
       "    }\n",
       "\n",
       "    .dataframe tbody tr th {\n",
       "        vertical-align: top;\n",
       "    }\n",
       "\n",
       "    .dataframe thead th {\n",
       "        text-align: right;\n",
       "    }\n",
       "</style>\n",
       "<table border=\"1\" class=\"dataframe\">\n",
       "  <thead>\n",
       "    <tr style=\"text-align: right;\">\n",
       "      <th></th>\n",
       "      <th>Date</th>\n",
       "      <th>Close</th>\n",
       "    </tr>\n",
       "  </thead>\n",
       "  <tbody>\n",
       "    <tr>\n",
       "      <th>0</th>\n",
       "      <td>1990-01-01</td>\n",
       "      <td>329.079987</td>\n",
       "    </tr>\n",
       "    <tr>\n",
       "      <th>1</th>\n",
       "      <td>1990-02-01</td>\n",
       "      <td>331.890015</td>\n",
       "    </tr>\n",
       "    <tr>\n",
       "      <th>2</th>\n",
       "      <td>1990-03-01</td>\n",
       "      <td>339.940002</td>\n",
       "    </tr>\n",
       "    <tr>\n",
       "      <th>3</th>\n",
       "      <td>1990-04-01</td>\n",
       "      <td>330.799988</td>\n",
       "    </tr>\n",
       "    <tr>\n",
       "      <th>4</th>\n",
       "      <td>1990-05-01</td>\n",
       "      <td>361.230011</td>\n",
       "    </tr>\n",
       "  </tbody>\n",
       "</table>\n",
       "</div>"
      ],
      "text/plain": [
       "        Date       Close\n",
       "0 1990-01-01  329.079987\n",
       "1 1990-02-01  331.890015\n",
       "2 1990-03-01  339.940002\n",
       "3 1990-04-01  330.799988\n",
       "4 1990-05-01  361.230011"
      ]
     },
     "execution_count": 137,
     "metadata": {},
     "output_type": "execute_result"
    }
   ],
   "source": [
    "df = pd.read_csv('data.csv')\n",
    "df['Date'] = pd.to_datetime(df['Date'])\n",
    "df = df[['Date', 'Close']]\n",
    "df.head()"
   ]
  },
  {
   "cell_type": "code",
   "execution_count": 138,
   "metadata": {},
   "outputs": [],
   "source": [
    "from statsmodels.tsa.holtwinters import SimpleExpSmoothing, Holt, ExponentialSmoothing\n",
    "series = pd.Series(data=df['Close'].values, index=df['Date'])\n",
    "size = int(len(series) * 0.95)\n",
    "train = series.iloc[:size]\n",
    "test = series.iloc[size:]\n",
    "X_train, X_test = train.index.values, test.index.values\n",
    "y_train, y_test = train.values, test.values"
   ]
  },
  {
   "cell_type": "code",
   "execution_count": 139,
   "metadata": {},
   "outputs": [],
   "source": [
    "model = ExponentialSmoothing(train, trend='add', seasonal=None)\n",
    "fit = model.fit(smoothing_level=0.3, smoothing_trend=0.05, smoothing_seasonal=0.04)"
   ]
  },
  {
   "cell_type": "code",
   "execution_count": 140,
   "metadata": {},
   "outputs": [
    {
     "data": {
      "image/png": "[encoded data removed]",
      "text/plain": [
       "<Figure size 1152x648 with 1 Axes>"
      ]
     },
     "metadata": {
      "needs_background": "light"
     },
     "output_type": "display_data"
    }
   ],
   "source": [
    "import matplotlib.pyplot as plt\n",
    "plt.figure(figsize=(16,9))\n",
    "plt.plot(X_test, y_test, 'red', label='Actual')\n",
    "plt.plot(X_test, fit.forecast(X_test.shape[0]).values, 'blue', label=\"Predicted\")\n",
    "plt.legend()\n",
    "plt.show()"
   ]
  },
  {
   "cell_type": "code",
   "execution_count": 141,
   "metadata": {},
   "outputs": [
    {
     "name": "stdout",
     "output_type": "stream",
     "text": [
      "The evaluations are as follows\n",
      "Mean Squared Error: 135493.03753114867\n",
      "Mean Absolute Error: 311.92396236930784\n",
      "R2 Score: 0.3787153998565972\n"
     ]
    }
   ],
   "source": [
    "from sklearn.metrics import mean_squared_error, r2_score, mean_absolute_error\n",
    "y_pred = fit.forecast(X_test.shape[0])\n",
    "print(f'The evaluations are as follows\\nMean Squared Error: {mean_squared_error(y_test, y_pred)}\\nMean Absolute Error: {mean_absolute_error(y_test, y_pred)}\\nR2 Score: {r2_score(y_test, y_pred)}')"
   ]
  },
  {
   "cell_type": "code",
   "execution_count": 142,
   "metadata": {},
   "outputs": [],
   "source": [
    "to_save = pd.DataFrame({'Date':series.index.values[-y_pred.shape[0]:], 'Actual':y_test, 'Predicted':y_pred})\n",
    "to_save.to_csv('ets.csv')"
   ]
  },
  {
   "cell_type": "code",
   "execution_count": 144,
   "metadata": {},
   "outputs": [],
   "source": [
    "import pickle\n",
    "fit.save('ets.pkl')"
   ]
  },
  {
   "cell_type": "markdown",
   "metadata": {},
   "source": [
    "# Prophet"
   ]
  },
  {
   "cell_type": "code",
   "execution_count": 145,
   "metadata": {},
   "outputs": [],
   "source": [
    "from prophet import Prophet"
   ]
  },
  {
   "cell_type": "code",
   "execution_count": 146,
   "metadata": {},
   "outputs": [
    {
     "name": "stderr",
     "output_type": "stream",
     "text": [
      "18:52:17 - cmdstanpy - INFO - Chain [1] start processing\n",
      "18:52:17 - cmdstanpy - INFO - Chain [1] done processing\n"
     ]
    }
   ],
   "source": [
    "model = Prophet(yearly_seasonality=True, n_changepoints=50, seasonality_prior_scale=800, changepoint_prior_scale=10, seasonality_mode='multiplicative', interval_width=0.90)\n",
    "model.fit(pd.DataFrame({'ds':X_train, 'y':y_train}))\n",
    "future = model.make_future_dataframe(periods=len(X_test), freq='M')\n",
    "forecast = model.predict(future)"
   ]
  },
  {
   "cell_type": "code",
   "execution_count": 147,
   "metadata": {},
   "outputs": [
    {
     "data": {
      "text/plain": [
       "(413, 1)"
      ]
     },
     "execution_count": 147,
     "metadata": {},
     "output_type": "execute_result"
    }
   ],
   "source": [
    "future.shape"
   ]
  },
  {
   "cell_type": "code",
   "execution_count": 148,
   "metadata": {},
   "outputs": [
    {
     "data": {
      "text/html": [
       "<div>\n",
       "<style scoped>\n",
       "    .dataframe tbody tr th:only-of-type {\n",
       "        vertical-align: middle;\n",
       "    }\n",
       "\n",
       "    .dataframe tbody tr th {\n",
       "        vertical-align: top;\n",
       "    }\n",
       "\n",
       "    .dataframe thead th {\n",
       "        text-align: right;\n",
       "    }\n",
       "</style>\n",
       "<table border=\"1\" class=\"dataframe\">\n",
       "  <thead>\n",
       "    <tr style=\"text-align: right;\">\n",
       "      <th></th>\n",
       "      <th>ds</th>\n",
       "      <th>yhat</th>\n",
       "    </tr>\n",
       "  </thead>\n",
       "  <tbody>\n",
       "    <tr>\n",
       "      <th>392</th>\n",
       "      <td>2022-08-31</td>\n",
       "      <td>4407.643959</td>\n",
       "    </tr>\n",
       "    <tr>\n",
       "      <th>393</th>\n",
       "      <td>2022-09-30</td>\n",
       "      <td>4781.359661</td>\n",
       "    </tr>\n",
       "    <tr>\n",
       "      <th>394</th>\n",
       "      <td>2022-10-31</td>\n",
       "      <td>4630.147661</td>\n",
       "    </tr>\n",
       "    <tr>\n",
       "      <th>395</th>\n",
       "      <td>2022-11-30</td>\n",
       "      <td>4448.186207</td>\n",
       "    </tr>\n",
       "    <tr>\n",
       "      <th>396</th>\n",
       "      <td>2022-12-31</td>\n",
       "      <td>4330.208549</td>\n",
       "    </tr>\n",
       "    <tr>\n",
       "      <th>397</th>\n",
       "      <td>2023-01-31</td>\n",
       "      <td>3935.629676</td>\n",
       "    </tr>\n",
       "    <tr>\n",
       "      <th>398</th>\n",
       "      <td>2023-02-28</td>\n",
       "      <td>5274.341444</td>\n",
       "    </tr>\n",
       "    <tr>\n",
       "      <th>399</th>\n",
       "      <td>2023-03-31</td>\n",
       "      <td>4727.376674</td>\n",
       "    </tr>\n",
       "    <tr>\n",
       "      <th>400</th>\n",
       "      <td>2023-04-30</td>\n",
       "      <td>4443.993326</td>\n",
       "    </tr>\n",
       "    <tr>\n",
       "      <th>401</th>\n",
       "      <td>2023-05-31</td>\n",
       "      <td>4452.740147</td>\n",
       "    </tr>\n",
       "    <tr>\n",
       "      <th>402</th>\n",
       "      <td>2023-06-30</td>\n",
       "      <td>4616.301663</td>\n",
       "    </tr>\n",
       "    <tr>\n",
       "      <th>403</th>\n",
       "      <td>2023-07-31</td>\n",
       "      <td>4199.509992</td>\n",
       "    </tr>\n",
       "    <tr>\n",
       "      <th>404</th>\n",
       "      <td>2023-08-31</td>\n",
       "      <td>4817.119924</td>\n",
       "    </tr>\n",
       "    <tr>\n",
       "      <th>405</th>\n",
       "      <td>2023-09-30</td>\n",
       "      <td>5283.796827</td>\n",
       "    </tr>\n",
       "    <tr>\n",
       "      <th>406</th>\n",
       "      <td>2023-10-31</td>\n",
       "      <td>5048.991771</td>\n",
       "    </tr>\n",
       "    <tr>\n",
       "      <th>407</th>\n",
       "      <td>2023-11-30</td>\n",
       "      <td>4791.416601</td>\n",
       "    </tr>\n",
       "    <tr>\n",
       "      <th>408</th>\n",
       "      <td>2023-12-31</td>\n",
       "      <td>4642.256972</td>\n",
       "    </tr>\n",
       "    <tr>\n",
       "      <th>409</th>\n",
       "      <td>2024-01-31</td>\n",
       "      <td>4141.659574</td>\n",
       "    </tr>\n",
       "    <tr>\n",
       "      <th>410</th>\n",
       "      <td>2024-02-29</td>\n",
       "      <td>5254.904310</td>\n",
       "    </tr>\n",
       "    <tr>\n",
       "      <th>411</th>\n",
       "      <td>2024-03-31</td>\n",
       "      <td>5024.962495</td>\n",
       "    </tr>\n",
       "    <tr>\n",
       "      <th>412</th>\n",
       "      <td>2024-04-30</td>\n",
       "      <td>4883.248820</td>\n",
       "    </tr>\n",
       "  </tbody>\n",
       "</table>\n",
       "</div>"
      ],
      "text/plain": [
       "            ds         yhat\n",
       "392 2022-08-31  4407.643959\n",
       "393 2022-09-30  4781.359661\n",
       "394 2022-10-31  4630.147661\n",
       "395 2022-11-30  4448.186207\n",
       "396 2022-12-31  4330.208549\n",
       "397 2023-01-31  3935.629676\n",
       "398 2023-02-28  5274.341444\n",
       "399 2023-03-31  4727.376674\n",
       "400 2023-04-30  4443.993326\n",
       "401 2023-05-31  4452.740147\n",
       "402 2023-06-30  4616.301663\n",
       "403 2023-07-31  4199.509992\n",
       "404 2023-08-31  4817.119924\n",
       "405 2023-09-30  5283.796827\n",
       "406 2023-10-31  5048.991771\n",
       "407 2023-11-30  4791.416601\n",
       "408 2023-12-31  4642.256972\n",
       "409 2024-01-31  4141.659574\n",
       "410 2024-02-29  5254.904310\n",
       "411 2024-03-31  5024.962495\n",
       "412 2024-04-30  4883.248820"
      ]
     },
     "execution_count": 148,
     "metadata": {},
     "output_type": "execute_result"
    }
   ],
   "source": [
    "forecast = forecast.tail(len(X_test))[['ds', 'yhat']]\n",
    "forecast"
   ]
  },
  {
   "cell_type": "code",
   "execution_count": 149,
   "metadata": {},
   "outputs": [
    {
     "data": {
      "image/png": "[encoded data removed]",
      "text/plain": [
       "<Figure size 1152x648 with 1 Axes>"
      ]
     },
     "metadata": {
      "needs_background": "light"
     },
     "output_type": "display_data"
    }
   ],
   "source": [
    "plt.figure(figsize=(16,9))\n",
    "plt.plot(X_test, y_test, 'red', label='Training')\n",
    "plt.plot(X_test, forecast['yhat'].values, 'blue', label=\"Testing\")\n",
    "plt.show()"
   ]
  },
  {
   "cell_type": "code",
   "execution_count": 150,
   "metadata": {},
   "outputs": [
    {
     "name": "stdout",
     "output_type": "stream",
     "text": [
      "The evaluations are as follows\n",
      "Mean Squared Error: 325596.0626422685\n",
      "Mean Absolute Error: 434.53149250306717\n",
      "R2 Score: -0.49297575191244736\n"
     ]
    }
   ],
   "source": [
    "from sklearn.metrics import mean_squared_error, r2_score, mean_absolute_error\n",
    "y_pred = forecast['yhat']\n",
    "print(f'The evaluations are as follows\\nMean Squared Error: {mean_squared_error(y_test, y_pred)}\\nMean Absolute Error: {mean_absolute_error(y_test, y_pred)}\\nR2 Score: {r2_score(y_test, y_pred)}')"
   ]
  },
  {
   "cell_type": "code",
   "execution_count": 151,
   "metadata": {},
   "outputs": [],
   "source": [
    "to_save = pd.DataFrame({'Date':forecast['ds'].values, 'Actual':y_test, 'Predicted':y_pred})\n",
    "to_save.to_csv('Prophet.csv')"
   ]
  },
  {
   "cell_type": "code",
   "execution_count": 152,
   "metadata": {},
   "outputs": [],
   "source": [
    "from prophet.serialize import model_to_json\n",
    "with open('serialized_model.json', 'w') as fout:\n",
    "    fout.write(model_to_json(model))"
   ]
  },
  {
   "cell_type": "code",
   "execution_count": null,
   "metadata": {},
   "outputs": [],
   "source": []
  }
 ],
 "metadata": {
  "kernelspec": {
   "display_name": "Python 3 (ipykernel)",
   "language": "python",
   "name": "python3"
  },
  "language_info": {
   "codemirror_mode": {
    "name": "ipython",
    "version": 3
   },
   "file_extension": ".py",
   "mimetype": "text/x-python",
   "name": "python",
   "nbconvert_exporter": "python",
   "pygments_lexer": "ipython3",
   "version": "3.9.12"
  }
 },
 "nbformat": 4,
 "nbformat_minor": 4
}
