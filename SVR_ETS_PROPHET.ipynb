{
 "cells": [
  {
   "cell_type": "code",
   "execution_count": 1,
   "metadata": {},
   "outputs": [],
   "source": [
    "import os\n",
    "import pandas as pd\n",
    "import numpy as np\n",
    "from datetime import datetime\n",
    "import matplotlib.pyplot as plt\n",
    "import seaborn as sns\n",
    "from sklearn.preprocessing import MinMaxScaler"
   ]
  },
  {
   "cell_type": "code",
   "execution_count": 2,
   "metadata": {},
   "outputs": [],
   "source": [
    "df = pd.read_csv('data.csv')"
   ]
  },
  {
   "cell_type": "markdown",
   "metadata": {},
   "source": [
    "### Adding into db for easy retrieval"
   ]
  },
  {
   "cell_type": "code",
   "execution_count": 3,
   "metadata": {},
   "outputs": [
    {
     "ename": "NameError",
     "evalue": "name 'monthly' is not defined",
     "output_type": "error",
     "traceback": [
      "\u001b[1;31m---------------------------------------------------------------------------\u001b[0m",
      "\u001b[1;31mNameError\u001b[0m                                 Traceback (most recent call last)",
      "Input \u001b[1;32mIn [3]\u001b[0m, in \u001b[0;36m<cell line: 3>\u001b[1;34m()\u001b[0m\n\u001b[0;32m      1\u001b[0m \u001b[38;5;28;01mimport\u001b[39;00m \u001b[38;5;21;01msqlite3\u001b[39;00m\n\u001b[0;32m      2\u001b[0m \u001b[38;5;28;01mfrom\u001b[39;00m \u001b[38;5;21;01msqlalchemy\u001b[39;00m \u001b[38;5;28;01mimport\u001b[39;00m create_engine\n\u001b[1;32m----> 3\u001b[0m to_store \u001b[38;5;241m=\u001b[39m pd\u001b[38;5;241m.\u001b[39mDataFrame(data\u001b[38;5;241m=\u001b[39m{\u001b[38;5;124m'\u001b[39m\u001b[38;5;124mDate\u001b[39m\u001b[38;5;124m'\u001b[39m: \u001b[43mmonthly\u001b[49m\u001b[38;5;241m.\u001b[39mindex, \u001b[38;5;124m'\u001b[39m\u001b[38;5;124mClose\u001b[39m\u001b[38;5;124m'\u001b[39m: monthly[\u001b[38;5;124m'\u001b[39m\u001b[38;5;124mClose\u001b[39m\u001b[38;5;124m'\u001b[39m]})\n\u001b[0;32m      4\u001b[0m engine \u001b[38;5;241m=\u001b[39m create_engine(\u001b[38;5;124m'\u001b[39m\u001b[38;5;124msqlite:///spindex.db\u001b[39m\u001b[38;5;124m'\u001b[39m)\n\u001b[0;32m      5\u001b[0m to_store\u001b[38;5;241m.\u001b[39mto_sql(\u001b[38;5;124m'\u001b[39m\u001b[38;5;124mclose_price\u001b[39m\u001b[38;5;124m'\u001b[39m, engine, if_exists\u001b[38;5;241m=\u001b[39m\u001b[38;5;124m'\u001b[39m\u001b[38;5;124mreplace\u001b[39m\u001b[38;5;124m'\u001b[39m, index\u001b[38;5;241m=\u001b[39m\u001b[38;5;28;01mFalse\u001b[39;00m)\n",
      "\u001b[1;31mNameError\u001b[0m: name 'monthly' is not defined"
     ]
    }
   ],
   "source": [
    "import sqlite3\n",
    "from sqlalchemy import create_engine\n",
    "to_store = pd.DataFrame(data={'Date': df.index, 'Close': d['Close']})\n",
    "engine = create_engine('sqlite:///spindex.db')\n",
    "to_store.to_sql('close_price', engine, if_exists='replace', index=False)\n",
    "engine.dispose()\n",
    "connect = sqlite3.connect('spindex.db')\n",
    "cursor = connect.cursor()\n",
    "result = cursor.execute('Select * from close_price limit 10')\n",
    "result.fetchall()"
   ]
  },
  {
   "cell_type": "markdown",
   "metadata": {
    "tags": []
   },
   "source": [
    "# SVR"
   ]
  },
  {
   "cell_type": "code",
   "execution_count": 1,
   "metadata": {},
   "outputs": [],
   "source": [
    "import pandas as pd\n",
    "import numpy as np\n",
    "from sqlalchemy import create_engine"
   ]
  },
  {
   "cell_type": "code",
   "execution_count": 2,
   "metadata": {},
   "outputs": [
    {
     "data": {
      "text/html": [
       "<div>\n",
       "<style scoped>\n",
       "    .dataframe tbody tr th:only-of-type {\n",
       "        vertical-align: middle;\n",
       "    }\n",
       "\n",
       "    .dataframe tbody tr th {\n",
       "        vertical-align: top;\n",
       "    }\n",
       "\n",
       "    .dataframe thead th {\n",
       "        text-align: right;\n",
       "    }\n",
       "</style>\n",
       "<table border=\"1\" class=\"dataframe\">\n",
       "  <thead>\n",
       "    <tr style=\"text-align: right;\">\n",
       "      <th></th>\n",
       "      <th>Date</th>\n",
       "      <th>Open</th>\n",
       "      <th>High</th>\n",
       "      <th>Low</th>\n",
       "      <th>Close</th>\n",
       "      <th>Adj Close</th>\n",
       "      <th>Volume</th>\n",
       "    </tr>\n",
       "  </thead>\n",
       "  <tbody>\n",
       "    <tr>\n",
       "      <th>0</th>\n",
       "      <td>1990-01-01</td>\n",
       "      <td>353.399994</td>\n",
       "      <td>360.589996</td>\n",
       "      <td>319.829987</td>\n",
       "      <td>329.079987</td>\n",
       "      <td>329.079987</td>\n",
       "      <td>3793250000</td>\n",
       "    </tr>\n",
       "    <tr>\n",
       "      <th>1</th>\n",
       "      <td>1990-02-01</td>\n",
       "      <td>329.079987</td>\n",
       "      <td>336.089996</td>\n",
       "      <td>322.100006</td>\n",
       "      <td>331.890015</td>\n",
       "      <td>331.890015</td>\n",
       "      <td>2961970000</td>\n",
       "    </tr>\n",
       "    <tr>\n",
       "      <th>2</th>\n",
       "      <td>1990-03-01</td>\n",
       "      <td>331.890015</td>\n",
       "      <td>344.489990</td>\n",
       "      <td>331.079987</td>\n",
       "      <td>339.940002</td>\n",
       "      <td>339.940002</td>\n",
       "      <td>3283280000</td>\n",
       "    </tr>\n",
       "    <tr>\n",
       "      <th>3</th>\n",
       "      <td>1990-04-01</td>\n",
       "      <td>339.940002</td>\n",
       "      <td>347.299988</td>\n",
       "      <td>327.760010</td>\n",
       "      <td>330.799988</td>\n",
       "      <td>330.799988</td>\n",
       "      <td>2801220000</td>\n",
       "    </tr>\n",
       "    <tr>\n",
       "      <th>4</th>\n",
       "      <td>1990-05-01</td>\n",
       "      <td>330.799988</td>\n",
       "      <td>362.260010</td>\n",
       "      <td>330.799988</td>\n",
       "      <td>361.230011</td>\n",
       "      <td>361.230011</td>\n",
       "      <td>3596680000</td>\n",
       "    </tr>\n",
       "  </tbody>\n",
       "</table>\n",
       "</div>"
      ],
      "text/plain": [
       "        Date        Open        High         Low       Close   Adj Close   \n",
       "0 1990-01-01  353.399994  360.589996  319.829987  329.079987  329.079987  \\\n",
       "1 1990-02-01  329.079987  336.089996  322.100006  331.890015  331.890015   \n",
       "2 1990-03-01  331.890015  344.489990  331.079987  339.940002  339.940002   \n",
       "3 1990-04-01  339.940002  347.299988  327.760010  330.799988  330.799988   \n",
       "4 1990-05-01  330.799988  362.260010  330.799988  361.230011  361.230011   \n",
       "\n",
       "       Volume  \n",
       "0  3793250000  \n",
       "1  2961970000  \n",
       "2  3283280000  \n",
       "3  2801220000  \n",
       "4  3596680000  "
      ]
     },
     "execution_count": 2,
     "metadata": {},
     "output_type": "execute_result"
    }
   ],
   "source": [
    "df = pd.read_csv('data.csv')\n",
    "df['Date'] = pd.to_datetime(df['Date'])\n",
    "df.head()"
   ]
  },
  {
   "cell_type": "code",
   "execution_count": 3,
   "metadata": {},
   "outputs": [],
   "source": [
    "svr_data = df[['Date', 'Close']]"
   ]
  },
  {
   "cell_type": "code",
   "execution_count": 4,
   "metadata": {},
   "outputs": [
    {
     "data": {
      "text/html": [
       "<div>\n",
       "<style scoped>\n",
       "    .dataframe tbody tr th:only-of-type {\n",
       "        vertical-align: middle;\n",
       "    }\n",
       "\n",
       "    .dataframe tbody tr th {\n",
       "        vertical-align: top;\n",
       "    }\n",
       "\n",
       "    .dataframe thead th {\n",
       "        text-align: right;\n",
       "    }\n",
       "</style>\n",
       "<table border=\"1\" class=\"dataframe\">\n",
       "  <thead>\n",
       "    <tr style=\"text-align: right;\">\n",
       "      <th></th>\n",
       "      <th>Date</th>\n",
       "      <th>Close</th>\n",
       "    </tr>\n",
       "  </thead>\n",
       "  <tbody>\n",
       "    <tr>\n",
       "      <th>0</th>\n",
       "      <td>1990-01-01</td>\n",
       "      <td>329.079987</td>\n",
       "    </tr>\n",
       "    <tr>\n",
       "      <th>1</th>\n",
       "      <td>1990-02-01</td>\n",
       "      <td>331.890015</td>\n",
       "    </tr>\n",
       "    <tr>\n",
       "      <th>2</th>\n",
       "      <td>1990-03-01</td>\n",
       "      <td>339.940002</td>\n",
       "    </tr>\n",
       "    <tr>\n",
       "      <th>3</th>\n",
       "      <td>1990-04-01</td>\n",
       "      <td>330.799988</td>\n",
       "    </tr>\n",
       "    <tr>\n",
       "      <th>4</th>\n",
       "      <td>1990-05-01</td>\n",
       "      <td>361.230011</td>\n",
       "    </tr>\n",
       "  </tbody>\n",
       "</table>\n",
       "</div>"
      ],
      "text/plain": [
       "        Date       Close\n",
       "0 1990-01-01  329.079987\n",
       "1 1990-02-01  331.890015\n",
       "2 1990-03-01  339.940002\n",
       "3 1990-04-01  330.799988\n",
       "4 1990-05-01  361.230011"
      ]
     },
     "execution_count": 4,
     "metadata": {},
     "output_type": "execute_result"
    }
   ],
   "source": [
    "svr_data.head()"
   ]
  },
  {
   "cell_type": "code",
   "execution_count": 5,
   "metadata": {
    "scrolled": true,
    "tags": []
   },
   "outputs": [
    {
     "data": {
      "text/html": [
       "<div>\n",
       "<style scoped>\n",
       "    .dataframe tbody tr th:only-of-type {\n",
       "        vertical-align: middle;\n",
       "    }\n",
       "\n",
       "    .dataframe tbody tr th {\n",
       "        vertical-align: top;\n",
       "    }\n",
       "\n",
       "    .dataframe thead th {\n",
       "        text-align: right;\n",
       "    }\n",
       "</style>\n",
       "<table border=\"1\" class=\"dataframe\">\n",
       "  <thead>\n",
       "    <tr style=\"text-align: right;\">\n",
       "      <th></th>\n",
       "      <th>Close</th>\n",
       "    </tr>\n",
       "    <tr>\n",
       "      <th>Date</th>\n",
       "      <th></th>\n",
       "    </tr>\n",
       "  </thead>\n",
       "  <tbody>\n",
       "    <tr>\n",
       "      <th>1990-03-01</th>\n",
       "      <td>5.239960</td>\n",
       "    </tr>\n",
       "    <tr>\n",
       "      <th>1990-04-01</th>\n",
       "      <td>-17.190002</td>\n",
       "    </tr>\n",
       "    <tr>\n",
       "      <th>1990-05-01</th>\n",
       "      <td>39.570038</td>\n",
       "    </tr>\n",
       "    <tr>\n",
       "      <th>1990-06-01</th>\n",
       "      <td>-33.640045</td>\n",
       "    </tr>\n",
       "    <tr>\n",
       "      <th>1990-07-01</th>\n",
       "      <td>1.340027</td>\n",
       "    </tr>\n",
       "  </tbody>\n",
       "</table>\n",
       "</div>"
      ],
      "text/plain": [
       "                Close\n",
       "Date                 \n",
       "1990-03-01   5.239960\n",
       "1990-04-01 -17.190002\n",
       "1990-05-01  39.570038\n",
       "1990-06-01 -33.640045\n",
       "1990-07-01   1.340027"
      ]
     },
     "execution_count": 5,
     "metadata": {},
     "output_type": "execute_result"
    }
   ],
   "source": [
    "svr_data = df.copy(deep=True)\n",
    "svr_data.set_index('Date', inplace=True)\n",
    "svr_data = svr_data[['Close']]\n",
    "svr_data = svr_data.diff().diff()\n",
    "svr_data.dropna(inplace=True)\n",
    "svr_data.head()"
   ]
  },
  {
   "cell_type": "code",
   "execution_count": 134,
   "metadata": {},
   "outputs": [
    {
     "name": "stdout",
     "output_type": "stream",
     "text": [
      "Outer Cross-Validation Scores: [-1763.57848542 -1451.47785042 -1528.75768926 -1697.8580694\n",
      " -1656.30384201]\n",
      "Average Outer Cross-Validation Score: 1619.595187298689\n",
      "The evaluations are as follows\n",
      "Mean Squared Error: 4965373.668902173\n",
      "Mean Absolute Error: 1846.3290477934338\n",
      "R2 Score: -2.1902064992795607\n"
     ]
    }
   ],
   "source": [
    "from sklearn.svm import LinearSVR\n",
    "from sklearn.model_selection import train_test_split, GridSearchCV, KFold, cross_val_score\n",
    "from sklearn.metrics import mean_squared_error, r2_score, mean_absolute_error\n",
    "from warnings import filterwarnings\n",
    "filterwarnings('ignore')\n",
    "svr = LinearSVR()\n",
    "X = svr_data['Date'].values.astype(np.float32)\n",
    "X = X.reshape(-1, 1)\n",
    "y = svr_data['Close'].values\n",
    "folds = KFold(n_splits=5, shuffle=True, random_state=42)\n",
    "parameters = {'C':[1, 10], 'max_iter':[1000, 20000]} #The parameters to tune for this model. \n",
    "X_train, X_test, y_train, y_test = train_test_split(X, y, test_size=0.05, random_state=42)\n",
    "svr_tuned = GridSearchCV(svr, parameters)\n",
    "svr_tuned.fit(X_train, y_train)\n",
    "kfscore = cross_val_score(svr_tuned, X_train, y_train, cv=folds, scoring='neg_mean_absolute_error')\n",
    "print(\"Outer Cross-Validation Scores:\", kfscore)\n",
    "print(\"Average Outer Cross-Validation Score:\", np.abs(np.mean(kfscore)))\n",
    "y_pred = svr_tuned.predict(X_test)\n",
    "print(f'The evaluations are as follows\\nMean Squared Error: {mean_squared_error(y_test, y_pred)}\\nMean Absolute Error: {mean_absolute_error(y_test, y_pred)}\\nR2 Score: {r2_score(y_test, y_pred)}')"
   ]
  },
  {
   "cell_type": "code",
   "execution_count": 135,
   "metadata": {},
   "outputs": [],
   "source": [
    "to_save = pd.DataFrame({'Date':pd.to_datetime(X_test.reshape(-1,)), 'Actual':y_test, 'Predicted':y_pred})\n",
    "to_save.to_csv('svr.csv')\n",
    "import pickle\n",
    "with open('svr.pkl', 'wb') as file:\n",
    "    pickle.dump(svr, file)"
   ]
  },
  {
   "cell_type": "markdown",
   "metadata": {},
   "source": [
    "# ETS"
   ]
  },
  {
   "cell_type": "code",
   "execution_count": 136,
   "metadata": {},
   "outputs": [],
   "source": [
    "import pandas as pd\n",
    "import numpy as np\n",
    "from sqlalchemy import create_engine"
   ]
  },
  {
   "cell_type": "code",
   "execution_count": 137,
   "metadata": {},
   "outputs": [
    {
     "data": {
      "text/html": [
       "<div>\n",
       "<style scoped>\n",
       "    .dataframe tbody tr th:only-of-type {\n",
       "        vertical-align: middle;\n",
       "    }\n",
       "\n",
       "    .dataframe tbody tr th {\n",
       "        vertical-align: top;\n",
       "    }\n",
       "\n",
       "    .dataframe thead th {\n",
       "        text-align: right;\n",
       "    }\n",
       "</style>\n",
       "<table border=\"1\" class=\"dataframe\">\n",
       "  <thead>\n",
       "    <tr style=\"text-align: right;\">\n",
       "      <th></th>\n",
       "      <th>Date</th>\n",
       "      <th>Close</th>\n",
       "    </tr>\n",
       "  </thead>\n",
       "  <tbody>\n",
       "    <tr>\n",
       "      <th>0</th>\n",
       "      <td>1990-01-01</td>\n",
       "      <td>329.079987</td>\n",
       "    </tr>\n",
       "    <tr>\n",
       "      <th>1</th>\n",
       "      <td>1990-02-01</td>\n",
       "      <td>331.890015</td>\n",
       "    </tr>\n",
       "    <tr>\n",
       "      <th>2</th>\n",
       "      <td>1990-03-01</td>\n",
       "      <td>339.940002</td>\n",
       "    </tr>\n",
       "    <tr>\n",
       "      <th>3</th>\n",
       "      <td>1990-04-01</td>\n",
       "      <td>330.799988</td>\n",
       "    </tr>\n",
       "    <tr>\n",
       "      <th>4</th>\n",
       "      <td>1990-05-01</td>\n",
       "      <td>361.230011</td>\n",
       "    </tr>\n",
       "  </tbody>\n",
       "</table>\n",
       "</div>"
      ],
      "text/plain": [
       "        Date       Close\n",
       "0 1990-01-01  329.079987\n",
       "1 1990-02-01  331.890015\n",
       "2 1990-03-01  339.940002\n",
       "3 1990-04-01  330.799988\n",
       "4 1990-05-01  361.230011"
      ]
     },
     "execution_count": 137,
     "metadata": {},
     "output_type": "execute_result"
    }
   ],
   "source": [
    "df = pd.read_csv('data.csv')\n",
    "df['Date'] = pd.to_datetime(df['Date'])\n",
    "df = df[['Date', 'Close']]\n",
    "df.head()"
   ]
  },
  {
   "cell_type": "code",
   "execution_count": 138,
   "metadata": {},
   "outputs": [],
   "source": [
    "from statsmodels.tsa.holtwinters import SimpleExpSmoothing, Holt, ExponentialSmoothing\n",
    "series = pd.Series(data=df['Close'].values, index=df['Date'])\n",
    "size = int(len(series) * 0.95)\n",
    "train = series.iloc[:size]\n",
    "test = series.iloc[size:]\n",
    "X_train, X_test = train.index.values, test.index.values\n",
    "y_train, y_test = train.values, test.values"
   ]
  },
  {
   "cell_type": "code",
   "execution_count": 139,
   "metadata": {},
   "outputs": [],
   "source": [
    "model = ExponentialSmoothing(train, trend='add', seasonal=None)\n",
    "fit = model.fit(smoothing_level=0.3, smoothing_trend=0.05, smoothing_seasonal=0.04)"
   ]
  },
  {
   "cell_type": "code",
   "execution_count": 140,
   "metadata": {},
   "outputs": [
    {
     "data": {
      "image/png": "[encoded data removed]",
      "text/plain": [
       "<Figure size 1152x648 with 1 Axes>"
      ]
     },
     "metadata": {
      "needs_background": "light"
     },
     "output_type": "display_data"
    }
   ],
   "source": [
    "import matplotlib.pyplot as plt\n",
    "plt.figure(figsize=(16,9))\n",
    "plt.plot(X_test, y_test, 'red', label='Actual')\n",
    "plt.plot(X_test, fit.forecast(X_test.shape[0]).values, 'blue', label=\"Predicted\")\n",
    "plt.legend()\n",
    "plt.show()"
   ]
  },
  {
   "cell_type": "code",
   "execution_count": 141,
   "metadata": {},
   "outputs": [
    {
     "name": "stdout",
     "output_type": "stream",
     "text": [
      "The evaluations are as follows\n",
      "Mean Squared Error: 135493.03753114867\n",
      "Mean Absolute Error: 311.92396236930784\n",
      "R2 Score: 0.3787153998565972\n"
     ]
    }
   ],
   "source": [
    "from sklearn.metrics import mean_squared_error, r2_score, mean_absolute_error\n",
    "y_pred = fit.forecast(X_test.shape[0])\n",
    "print(f'The evaluations are as follows\\nMean Squared Error: {mean_squared_error(y_test, y_pred)}\\nMean Absolute Error: {mean_absolute_error(y_test, y_pred)}\\nR2 Score: {r2_score(y_test, y_pred)}')"
   ]
  },
  {
   "cell_type": "code",
   "execution_count": 142,
   "metadata": {},
   "outputs": [],
   "source": [
    "to_save = pd.DataFrame({'Date':series.index.values[-y_pred.shape[0]:], 'Actual':y_test, 'Predicted':y_pred})\n",
    "to_save.to_csv('ets.csv')"
   ]
  },
  {
   "cell_type": "code",
   "execution_count": 144,
   "metadata": {},
   "outputs": [],
   "source": [
    "import pickle\n",
    "fit.save('ets.pkl')"
   ]
  },
  {
   "cell_type": "markdown",
   "metadata": {},
   "source": [
    "# Prophet"
   ]
  },
  {
   "cell_type": "code",
   "execution_count": 145,
   "metadata": {},
   "outputs": [],
   "source": [
    "from prophet import Prophet"
   ]
  },
  {
   "cell_type": "code",
   "execution_count": 146,
   "metadata": {},
   "outputs": [
    {
     "name": "stderr",
     "output_type": "stream",
     "text": [
      "18:52:17 - cmdstanpy - INFO - Chain [1] start processing\n",
      "18:52:17 - cmdstanpy - INFO - Chain [1] done processing\n"
     ]
    }
   ],
   "source": [
    "model = Prophet(yearly_seasonality=True, n_changepoints=50, seasonality_prior_scale=800, changepoint_prior_scale=10, seasonality_mode='multiplicative', interval_width=0.90)\n",
    "model.fit(pd.DataFrame({'ds':X_train, 'y':y_train}))\n",
    "future = model.make_future_dataframe(periods=len(X_test), freq='M')\n",
    "forecast = model.predict(future)"
   ]
  },
  {
   "cell_type": "code",
   "execution_count": 147,
   "metadata": {},
   "outputs": [
    {
     "data": {
      "text/plain": [
       "(413, 1)"
      ]
     },
     "execution_count": 147,
     "metadata": {},
     "output_type": "execute_result"
    }
   ],
   "source": [
    "future.shape"
   ]
  },
  {
   "cell_type": "code",
   "execution_count": 148,
   "metadata": {},
   "outputs": [
    {
     "data": {
      "text/html": [
       "<div>\n",
       "<style scoped>\n",
       "    .dataframe tbody tr th:only-of-type {\n",
       "        vertical-align: middle;\n",
       "    }\n",
       "\n",
       "    .dataframe tbody tr th {\n",
       "        vertical-align: top;\n",
       "    }\n",
       "\n",
       "    .dataframe thead th {\n",
       "        text-align: right;\n",
       "    }\n",
       "</style>\n",
       "<table border=\"1\" class=\"dataframe\">\n",
       "  <thead>\n",
       "    <tr style=\"text-align: right;\">\n",
       "      <th></th>\n",
       "      <th>ds</th>\n",
       "      <th>yhat</th>\n",
       "    </tr>\n",
       "  </thead>\n",
       "  <tbody>\n",
       "    <tr>\n",
       "      <th>392</th>\n",
       "      <td>2022-08-31</td>\n",
       "      <td>4407.643959</td>\n",
       "    </tr>\n",
       "    <tr>\n",
       "      <th>393</th>\n",
       "      <td>2022-09-30</td>\n",
       "      <td>4781.359661</td>\n",
       "    </tr>\n",
       "    <tr>\n",
       "      <th>394</th>\n",
       "      <td>2022-10-31</td>\n",
       "      <td>4630.147661</td>\n",
       "    </tr>\n",
       "    <tr>\n",
       "      <th>395</th>\n",
       "      <td>2022-11-30</td>\n",
       "      <td>4448.186207</td>\n",
       "    </tr>\n",
       "    <tr>\n",
       "      <th>396</th>\n",
       "      <td>2022-12-31</td>\n",
       "      <td>4330.208549</td>\n",
       "    </tr>\n",
       "    <tr>\n",
       "      <th>397</th>\n",
       "      <td>2023-01-31</td>\n",
       "      <td>3935.629676</td>\n",
       "    </tr>\n",
       "    <tr>\n",
       "      <th>398</th>\n",
       "      <td>2023-02-28</td>\n",
       "      <td>5274.341444</td>\n",
       "    </tr>\n",
       "    <tr>\n",
       "      <th>399</th>\n",
       "      <td>2023-03-31</td>\n",
       "      <td>4727.376674</td>\n",
       "    </tr>\n",
       "    <tr>\n",
       "      <th>400</th>\n",
       "      <td>2023-04-30</td>\n",
       "      <td>4443.993326</td>\n",
       "    </tr>\n",
       "    <tr>\n",
       "      <th>401</th>\n",
       "      <td>2023-05-31</td>\n",
       "      <td>4452.740147</td>\n",
       "    </tr>\n",
       "    <tr>\n",
       "      <th>402</th>\n",
       "      <td>2023-06-30</td>\n",
       "      <td>4616.301663</td>\n",
       "    </tr>\n",
       "    <tr>\n",
       "      <th>403</th>\n",
       "      <td>2023-07-31</td>\n",
       "      <td>4199.509992</td>\n",
       "    </tr>\n",
       "    <tr>\n",
       "      <th>404</th>\n",
       "      <td>2023-08-31</td>\n",
       "      <td>4817.119924</td>\n",
       "    </tr>\n",
       "    <tr>\n",
       "      <th>405</th>\n",
       "      <td>2023-09-30</td>\n",
       "      <td>5283.796827</td>\n",
       "    </tr>\n",
       "    <tr>\n",
       "      <th>406</th>\n",
       "      <td>2023-10-31</td>\n",
       "      <td>5048.991771</td>\n",
       "    </tr>\n",
       "    <tr>\n",
       "      <th>407</th>\n",
       "      <td>2023-11-30</td>\n",
       "      <td>4791.416601</td>\n",
       "    </tr>\n",
       "    <tr>\n",
       "      <th>408</th>\n",
       "      <td>2023-12-31</td>\n",
       "      <td>4642.256972</td>\n",
       "    </tr>\n",
       "    <tr>\n",
       "      <th>409</th>\n",
       "      <td>2024-01-31</td>\n",
       "      <td>4141.659574</td>\n",
       "    </tr>\n",
       "    <tr>\n",
       "      <th>410</th>\n",
       "      <td>2024-02-29</td>\n",
       "      <td>5254.904310</td>\n",
       "    </tr>\n",
       "    <tr>\n",
       "      <th>411</th>\n",
       "      <td>2024-03-31</td>\n",
       "      <td>5024.962495</td>\n",
       "    </tr>\n",
       "    <tr>\n",
       "      <th>412</th>\n",
       "      <td>2024-04-30</td>\n",
       "      <td>4883.248820</td>\n",
       "    </tr>\n",
       "  </tbody>\n",
       "</table>\n",
       "</div>"
      ],
      "text/plain": [
       "            ds         yhat\n",
       "392 2022-08-31  4407.643959\n",
       "393 2022-09-30  4781.359661\n",
       "394 2022-10-31  4630.147661\n",
       "395 2022-11-30  4448.186207\n",
       "396 2022-12-31  4330.208549\n",
       "397 2023-01-31  3935.629676\n",
       "398 2023-02-28  5274.341444\n",
       "399 2023-03-31  4727.376674\n",
       "400 2023-04-30  4443.993326\n",
       "401 2023-05-31  4452.740147\n",
       "402 2023-06-30  4616.301663\n",
       "403 2023-07-31  4199.509992\n",
       "404 2023-08-31  4817.119924\n",
       "405 2023-09-30  5283.796827\n",
       "406 2023-10-31  5048.991771\n",
       "407 2023-11-30  4791.416601\n",
       "408 2023-12-31  4642.256972\n",
       "409 2024-01-31  4141.659574\n",
       "410 2024-02-29  5254.904310\n",
       "411 2024-03-31  5024.962495\n",
       "412 2024-04-30  4883.248820"
      ]
     },
     "execution_count": 148,
     "metadata": {},
     "output_type": "execute_result"
    }
   ],
   "source": [
    "forecast = forecast.tail(len(X_test))[['ds', 'yhat']]\n",
    "forecast"
   ]
  },
  {
   "cell_type": "code",
   "execution_count": 149,
   "metadata": {},
   "outputs": [
    {
     "data": {
      "image/png": "[encoded data removed]",
      "text/plain": [
       "<Figure size 1152x648 with 1 Axes>"
      ]
     },
     "metadata": {
      "needs_background": "light"
     },
     "output_type": "display_data"
    }
   ],
   "source": [
    "plt.figure(figsize=(16,9))\n",
    "plt.plot(X_test, y_test, 'red', label='Training')\n",
    "plt.plot(X_test, forecast['yhat'].values, 'blue', label=\"Testing\")\n",
    "plt.show()"
   ]
  },
  {
   "cell_type": "code",
   "execution_count": 150,
   "metadata": {},
   "outputs": [
    {
     "name": "stdout",
     "output_type": "stream",
     "text": [
      "The evaluations are as follows\n",
      "Mean Squared Error: 325596.0626422685\n",
      "Mean Absolute Error: 434.53149250306717\n",
      "R2 Score: -0.49297575191244736\n"
     ]
    }
   ],
   "source": [
    "from sklearn.metrics import mean_squared_error, r2_score, mean_absolute_error\n",
    "y_pred = forecast['yhat']\n",
    "print(f'The evaluations are as follows\\nMean Squared Error: {mean_squared_error(y_test, y_pred)}\\nMean Absolute Error: {mean_absolute_error(y_test, y_pred)}\\nR2 Score: {r2_score(y_test, y_pred)}')"
   ]
  },
  {
   "cell_type": "code",
   "execution_count": 151,
   "metadata": {},
   "outputs": [],
   "source": [
    "to_save = pd.DataFrame({'Date':forecast['ds'].values, 'Actual':y_test, 'Predicted':y_pred})\n",
    "to_save.to_csv('Prophet.csv')"
   ]
  },
  {
   "cell_type": "code",
   "execution_count": 153,
   "metadata": {},
   "outputs": [],
   "source": [
    "from prophet.serialize import model_to_json\n",
    "with open('prophet.json', 'w') as fout:\n",
    "    fout.write(model_to_json(model))"
   ]
  },
  {
   "cell_type": "code",
   "execution_count": null,
   "metadata": {},
   "outputs": [],
   "source": []
  }
 ],
 "metadata": {
  "kernelspec": {
   "display_name": "Python 3 (ipykernel)",
   "language": "python",
   "name": "python3"
  },
  "language_info": {
   "codemirror_mode": {
    "name": "ipython",
    "version": 3
   },
   "file_extension": ".py",
   "mimetype": "text/x-python",
   "name": "python",
   "nbconvert_exporter": "python",
   "pygments_lexer": "ipython3",
   "version": "3.9.12"
  }
 },
 "nbformat": 4,
 "nbformat_minor": 4
}
